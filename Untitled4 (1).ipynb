{
 "cells": [
  {
   "cell_type": "code",
   "execution_count": 9,
   "id": "714be6b4-7cc3-4f3b-8535-3c5297c17483",
   "metadata": {
    "execution": {
     "iopub.execute_input": "2023-11-25T09:49:56.174604Z",
     "iopub.status.busy": "2023-11-25T09:49:56.173685Z",
     "iopub.status.idle": "2023-11-25T09:49:56.306817Z",
     "shell.execute_reply": "2023-11-25T09:49:56.305940Z",
     "shell.execute_reply.started": "2023-11-25T09:49:56.174546Z"
    },
    "tags": []
   },
   "outputs": [],
   "source": [
    "import pandas as pd\n",
    "import fasttext\n",
    "from catboost import CatBoostRanker, Pool\n",
    "from scipy.spatial.distance import cosine\n",
    "import numpy as np"
   ]
  },
  {
   "cell_type": "code",
   "execution_count": 56,
   "id": "4897a6c7-90c5-437b-a3f2-81396e96def6",
   "metadata": {
    "tags": []
   },
   "outputs": [],
   "source": [
    "file_path = r\"D:\\RUTUBE\\automarkup.parquet\"\n",
    "\n",
    "df_aum = pd.read_parquet(file_path)"
   ]
  },
  {
   "cell_type": "code",
   "execution_count": 71,
   "id": "8ce19594-de06-4405-8ce1-7b0bf3d14cb0",
   "metadata": {
    "tags": []
   },
   "outputs": [],
   "source": [
    "df_aum['emotion'] = np.where(df['emotion'] == 0, 0, 1)\n",
    "df_aum['vtop'] = df_aum['vtop'].map({None: 0, True: 1})\n",
    "\n",
    "df_aum = df_aum.drop(columns=['season', 'is_authorized', 'position', 'watchtime'])\n"
   ]
  },
  {
   "cell_type": "code",
   "execution_count": 87,
   "id": "b48fa98c-1189-4e4c-80e9-6af2388095a9",
   "metadata": {
    "tags": []
   },
   "outputs": [],
   "source": [
    "feat = pd.read_parquet(\"D:/RUTUBE/features/features_nov.parquet\")"
   ]
  },
  {
   "cell_type": "code",
   "execution_count": 94,
   "id": "9d1a8fcd-5b85-4a68-863d-97ecd94e8f0c",
   "metadata": {
    "tags": []
   },
   "outputs": [
    {
     "data": {
      "text/html": [
       "<div>\n",
       "<style scoped>\n",
       "    .dataframe tbody tr th:only-of-type {\n",
       "        vertical-align: middle;\n",
       "    }\n",
       "\n",
       "    .dataframe tbody tr th {\n",
       "        vertical-align: top;\n",
       "    }\n",
       "\n",
       "    .dataframe thead th {\n",
       "        text-align: right;\n",
       "    }\n",
       "</style>\n",
       "<table border=\"1\" class=\"dataframe\">\n",
       "  <thead>\n",
       "    <tr style=\"text-align: right;\">\n",
       "      <th></th>\n",
       "      <th>datetime</th>\n",
       "      <th>query</th>\n",
       "      <th>video_id</th>\n",
       "      <th>duration</th>\n",
       "      <th>emotion</th>\n",
       "      <th>vtop</th>\n",
       "      <th>comment</th>\n",
       "      <th>channel</th>\n",
       "      <th>tv_show</th>\n",
       "      <th>v_channel_type</th>\n",
       "      <th>v_category</th>\n",
       "      <th>v_pub_datetime</th>\n",
       "      <th>v_month_views</th>\n",
       "      <th>v_cr_click_like_30_days</th>\n",
       "    </tr>\n",
       "  </thead>\n",
       "  <tbody>\n",
       "    <tr>\n",
       "      <th>0</th>\n",
       "      <td>2023-07-03 14:29:34+03:00</td>\n",
       "      <td>приют комедиантов роман бабаян</td>\n",
       "      <td>video_3049590</td>\n",
       "      <td>2279019</td>\n",
       "      <td>0</td>\n",
       "      <td>0</td>\n",
       "      <td>0</td>\n",
       "      <td>ТЕЛЕКАНАЛ ЗВЕЗДА</td>\n",
       "      <td>Десять мгновений</td>\n",
       "      <td>ТВ И СМИ</td>\n",
       "      <td>Телепередачи</td>\n",
       "      <td>2022-06-11 22:00:14</td>\n",
       "      <td>48.0</td>\n",
       "      <td>0.020833</td>\n",
       "    </tr>\n",
       "    <tr>\n",
       "      <th>1</th>\n",
       "      <td>2023-07-20 04:39:07+03:00</td>\n",
       "      <td>бабаян роман</td>\n",
       "      <td>video_3049590</td>\n",
       "      <td>2279019</td>\n",
       "      <td>0</td>\n",
       "      <td>0</td>\n",
       "      <td>0</td>\n",
       "      <td>ТЕЛЕКАНАЛ ЗВЕЗДА</td>\n",
       "      <td>Десять мгновений</td>\n",
       "      <td>ТВ И СМИ</td>\n",
       "      <td>Телепередачи</td>\n",
       "      <td>2022-06-11 22:00:14</td>\n",
       "      <td>48.0</td>\n",
       "      <td>0.020833</td>\n",
       "    </tr>\n",
       "    <tr>\n",
       "      <th>2</th>\n",
       "      <td>2023-08-10 17:39:06+03:00</td>\n",
       "      <td>роман бабаян</td>\n",
       "      <td>video_3049590</td>\n",
       "      <td>2279019</td>\n",
       "      <td>0</td>\n",
       "      <td>0</td>\n",
       "      <td>0</td>\n",
       "      <td>ТЕЛЕКАНАЛ ЗВЕЗДА</td>\n",
       "      <td>Десять мгновений</td>\n",
       "      <td>ТВ И СМИ</td>\n",
       "      <td>Телепередачи</td>\n",
       "      <td>2022-06-11 22:00:14</td>\n",
       "      <td>48.0</td>\n",
       "      <td>0.020833</td>\n",
       "    </tr>\n",
       "    <tr>\n",
       "      <th>3</th>\n",
       "      <td>2023-07-03 17:09:31+03:00</td>\n",
       "      <td>битва экстрасенсов 2019 год</td>\n",
       "      <td>video_31592942</td>\n",
       "      <td>4259447</td>\n",
       "      <td>0</td>\n",
       "      <td>0</td>\n",
       "      <td>0</td>\n",
       "      <td>Экстрасенсы. Битва сильнейших</td>\n",
       "      <td>Экстрасенсы. Битва сильнейших</td>\n",
       "      <td>ТВ И СМИ</td>\n",
       "      <td>Телепередачи</td>\n",
       "      <td>2021-04-30 19:34:10</td>\n",
       "      <td>31180.0</td>\n",
       "      <td>0.000930</td>\n",
       "    </tr>\n",
       "    <tr>\n",
       "      <th>4</th>\n",
       "      <td>2023-07-03 15:13:37+03:00</td>\n",
       "      <td>битва сильнейших 2 сезон</td>\n",
       "      <td>video_31592942</td>\n",
       "      <td>4259447</td>\n",
       "      <td>0</td>\n",
       "      <td>0</td>\n",
       "      <td>0</td>\n",
       "      <td>Экстрасенсы. Битва сильнейших</td>\n",
       "      <td>Экстрасенсы. Битва сильнейших</td>\n",
       "      <td>ТВ И СМИ</td>\n",
       "      <td>Телепередачи</td>\n",
       "      <td>2021-04-30 19:34:10</td>\n",
       "      <td>31180.0</td>\n",
       "      <td>0.000930</td>\n",
       "    </tr>\n",
       "    <tr>\n",
       "      <th>...</th>\n",
       "      <td>...</td>\n",
       "      <td>...</td>\n",
       "      <td>...</td>\n",
       "      <td>...</td>\n",
       "      <td>...</td>\n",
       "      <td>...</td>\n",
       "      <td>...</td>\n",
       "      <td>...</td>\n",
       "      <td>...</td>\n",
       "      <td>...</td>\n",
       "      <td>...</td>\n",
       "      <td>...</td>\n",
       "      <td>...</td>\n",
       "      <td>...</td>\n",
       "    </tr>\n",
       "    <tr>\n",
       "      <th>6234419</th>\n",
       "      <td>2023-05-27 11:48:44+03:00</td>\n",
       "      <td>Приколы тик ток</td>\n",
       "      <td>video_9286960</td>\n",
       "      <td>917560</td>\n",
       "      <td>0</td>\n",
       "      <td>0</td>\n",
       "      <td>0</td>\n",
       "      <td>Территория Юмора</td>\n",
       "      <td>None</td>\n",
       "      <td>UGC</td>\n",
       "      <td>Юмор</td>\n",
       "      <td>2023-03-30 00:48:46</td>\n",
       "      <td>7.0</td>\n",
       "      <td>0.000000</td>\n",
       "    </tr>\n",
       "    <tr>\n",
       "      <th>6234420</th>\n",
       "      <td>2023-05-27 20:02:00+03:00</td>\n",
       "      <td>тру крайм</td>\n",
       "      <td>video_17050166</td>\n",
       "      <td>852353</td>\n",
       "      <td>0</td>\n",
       "      <td>0</td>\n",
       "      <td>0</td>\n",
       "      <td>Тру Крайм</td>\n",
       "      <td>None</td>\n",
       "      <td>UGC</td>\n",
       "      <td>Фильмы</td>\n",
       "      <td>2022-07-29 10:00:25</td>\n",
       "      <td>9.0</td>\n",
       "      <td>0.111111</td>\n",
       "    </tr>\n",
       "    <tr>\n",
       "      <th>6234421</th>\n",
       "      <td>2023-05-27 22:35:26+03:00</td>\n",
       "      <td>3 рейх</td>\n",
       "      <td>video_18666796</td>\n",
       "      <td>3003246</td>\n",
       "      <td>0</td>\n",
       "      <td>0</td>\n",
       "      <td>0</td>\n",
       "      <td>ТЕЛЕКАНАЛ ЗВЕЗДА</td>\n",
       "      <td>Фильмы онлайн</td>\n",
       "      <td>ТВ И СМИ</td>\n",
       "      <td>Разное</td>\n",
       "      <td>2023-01-25 22:45:42</td>\n",
       "      <td>10.0</td>\n",
       "      <td>0.000000</td>\n",
       "    </tr>\n",
       "    <tr>\n",
       "      <th>6234422</th>\n",
       "      <td>2023-05-27 14:22:23+03:00</td>\n",
       "      <td>финист терра</td>\n",
       "      <td>video_6492689</td>\n",
       "      <td>59815</td>\n",
       "      <td>0</td>\n",
       "      <td>0</td>\n",
       "      <td>0</td>\n",
       "      <td>МК \"ФинистТерра\"</td>\n",
       "      <td>None</td>\n",
       "      <td>UGC</td>\n",
       "      <td>Бизнес и предпринимательство</td>\n",
       "      <td>2023-02-01 06:02:06</td>\n",
       "      <td>0.0</td>\n",
       "      <td>0.000000</td>\n",
       "    </tr>\n",
       "    <tr>\n",
       "      <th>6234423</th>\n",
       "      <td>2023-05-27 13:45:10+03:00</td>\n",
       "      <td>финист терра фасад</td>\n",
       "      <td>video_6492689</td>\n",
       "      <td>59815</td>\n",
       "      <td>0</td>\n",
       "      <td>0</td>\n",
       "      <td>0</td>\n",
       "      <td>МК \"ФинистТерра\"</td>\n",
       "      <td>None</td>\n",
       "      <td>UGC</td>\n",
       "      <td>Бизнес и предпринимательство</td>\n",
       "      <td>2023-02-01 06:02:06</td>\n",
       "      <td>0.0</td>\n",
       "      <td>0.000000</td>\n",
       "    </tr>\n",
       "  </tbody>\n",
       "</table>\n",
       "<p>6234424 rows × 14 columns</p>\n",
       "</div>"
      ],
      "text/plain": [
       "                          datetime                           query  \\\n",
       "0        2023-07-03 14:29:34+03:00  приют комедиантов роман бабаян   \n",
       "1        2023-07-20 04:39:07+03:00                    бабаян роман   \n",
       "2        2023-08-10 17:39:06+03:00                    роман бабаян   \n",
       "3        2023-07-03 17:09:31+03:00     битва экстрасенсов 2019 год   \n",
       "4        2023-07-03 15:13:37+03:00        битва сильнейших 2 сезон   \n",
       "...                            ...                             ...   \n",
       "6234419  2023-05-27 11:48:44+03:00                 Приколы тик ток   \n",
       "6234420  2023-05-27 20:02:00+03:00                      тру крайм    \n",
       "6234421  2023-05-27 22:35:26+03:00                          3 рейх   \n",
       "6234422  2023-05-27 14:22:23+03:00                    финист терра   \n",
       "6234423  2023-05-27 13:45:10+03:00              финист терра фасад   \n",
       "\n",
       "               video_id  duration  emotion  vtop  comment  \\\n",
       "0         video_3049590   2279019        0     0        0   \n",
       "1         video_3049590   2279019        0     0        0   \n",
       "2         video_3049590   2279019        0     0        0   \n",
       "3        video_31592942   4259447        0     0        0   \n",
       "4        video_31592942   4259447        0     0        0   \n",
       "...                 ...       ...      ...   ...      ...   \n",
       "6234419   video_9286960    917560        0     0        0   \n",
       "6234420  video_17050166    852353        0     0        0   \n",
       "6234421  video_18666796   3003246        0     0        0   \n",
       "6234422   video_6492689     59815        0     0        0   \n",
       "6234423   video_6492689     59815        0     0        0   \n",
       "\n",
       "                               channel                        tv_show  \\\n",
       "0                     ТЕЛЕКАНАЛ ЗВЕЗДА               Десять мгновений   \n",
       "1                     ТЕЛЕКАНАЛ ЗВЕЗДА               Десять мгновений   \n",
       "2                     ТЕЛЕКАНАЛ ЗВЕЗДА               Десять мгновений   \n",
       "3        Экстрасенсы. Битва сильнейших  Экстрасенсы. Битва сильнейших   \n",
       "4        Экстрасенсы. Битва сильнейших  Экстрасенсы. Битва сильнейших   \n",
       "...                                ...                            ...   \n",
       "6234419               Территория Юмора                           None   \n",
       "6234420                      Тру Крайм                           None   \n",
       "6234421               ТЕЛЕКАНАЛ ЗВЕЗДА                  Фильмы онлайн   \n",
       "6234422               МК \"ФинистТерра\"                           None   \n",
       "6234423               МК \"ФинистТерра\"                           None   \n",
       "\n",
       "        v_channel_type                    v_category       v_pub_datetime  \\\n",
       "0             ТВ И СМИ                  Телепередачи  2022-06-11 22:00:14   \n",
       "1             ТВ И СМИ                  Телепередачи  2022-06-11 22:00:14   \n",
       "2             ТВ И СМИ                  Телепередачи  2022-06-11 22:00:14   \n",
       "3             ТВ И СМИ                  Телепередачи  2021-04-30 19:34:10   \n",
       "4             ТВ И СМИ                  Телепередачи  2021-04-30 19:34:10   \n",
       "...                ...                           ...                  ...   \n",
       "6234419            UGC                          Юмор  2023-03-30 00:48:46   \n",
       "6234420            UGC                        Фильмы  2022-07-29 10:00:25   \n",
       "6234421       ТВ И СМИ                        Разное  2023-01-25 22:45:42   \n",
       "6234422            UGC  Бизнес и предпринимательство  2023-02-01 06:02:06   \n",
       "6234423            UGC  Бизнес и предпринимательство  2023-02-01 06:02:06   \n",
       "\n",
       "         v_month_views  v_cr_click_like_30_days  \n",
       "0                 48.0                 0.020833  \n",
       "1                 48.0                 0.020833  \n",
       "2                 48.0                 0.020833  \n",
       "3              31180.0                 0.000930  \n",
       "4              31180.0                 0.000930  \n",
       "...                ...                      ...  \n",
       "6234419            7.0                 0.000000  \n",
       "6234420            9.0                 0.111111  \n",
       "6234421           10.0                 0.000000  \n",
       "6234422            0.0                 0.000000  \n",
       "6234423            0.0                 0.000000  \n",
       "\n",
       "[6234424 rows x 14 columns]"
      ]
     },
     "execution_count": 94,
     "metadata": {},
     "output_type": "execute_result"
    }
   ],
   "source": [
    "df_aum = pd.merge(df_aum, feat[['video_id', 'v_channel_type', 'v_category', 'v_pub_datetime', 'v_month_views', 'v_cr_click_like_30_days']], on='video_id', how='left')"
   ]
  },
  {
   "cell_type": "code",
   "execution_count": 99,
   "id": "e6f57d1c-385a-498f-88b7-894919e9b5e5",
   "metadata": {
    "tags": []
   },
   "outputs": [],
   "source": [
    "df_aum.dropna(subset=['v_channel_type', 'v_category', 'v_pub_datetime', 'v_month_views', 'v_cr_click_like_30_days'], inplace=True)\n"
   ]
  },
  {
   "cell_type": "code",
   "execution_count": 101,
   "id": "1d1268ac-3a4d-496d-8bb6-f36f077068f8",
   "metadata": {
    "tags": []
   },
   "outputs": [],
   "source": [
    "df_aum.dropna(subset=['channel'], inplace=True)"
   ]
  },
  {
   "cell_type": "code",
   "execution_count": 106,
   "id": "6ab9f398-e521-4f69-b5e5-d6453da04cf0",
   "metadata": {
    "tags": []
   },
   "outputs": [],
   "source": [
    "df_aum['tv_show'].fillna('', inplace=True)"
   ]
  },
  {
   "cell_type": "code",
   "execution_count": null,
   "id": "2facff8c-9cb1-4a93-905b-b1a26239f474",
   "metadata": {
    "tags": []
   },
   "outputs": [],
   "source": [
    "df_aum.to_parquet('D:/RUTUBE/data.parquet')"
   ]
  },
  {
   "cell_type": "code",
   "execution_count": 12,
   "id": "3df5ce2d-ce77-48aa-bae0-dea8e802fe28",
   "metadata": {
    "tags": []
   },
   "outputs": [],
   "source": [
    "dfd = pd.read_parquet(\"D:/RUTUBE/data.parquet\")"
   ]
  },
  {
   "cell_type": "code",
   "execution_count": 6,
   "id": "a9d503e9-9f6d-4cdc-aec7-20a5b4055fd1",
   "metadata": {
    "tags": []
   },
   "outputs": [],
   "source": [
    "df_vid = pd.read_parquet(\"D:/RUTUBE/videos.parquet\")"
   ]
  },
  {
   "cell_type": "code",
   "execution_count": 15,
   "id": "5cce21e9-b9d9-4c2b-a75a-7ff792a9031d",
   "metadata": {
    "tags": []
   },
   "outputs": [],
   "source": [
    "dfd = pd.merge(dfd, df_vid[['video_id', 'video_title']], on='video_id', how='left')"
   ]
  },
  {
   "cell_type": "code",
   "execution_count": 17,
   "id": "88d48f7e-110d-4da2-a495-ea5e3264c691",
   "metadata": {
    "tags": []
   },
   "outputs": [],
   "source": [
    "dfd.to_parquet('D:/RUTUBE/data1.parquet')"
   ]
  },
  {
   "cell_type": "code",
   "execution_count": null,
   "id": "525bff8f-3a9e-4470-91d6-f713382ee8ae",
   "metadata": {},
   "outputs": [],
   "source": [
    "df_path = '/home/jupyter/datasphere/project/copy_of_dwn.parquet'\n",
    "df = pd.read_parquet(df_path)"
   ]
  },
  {
   "cell_type": "code",
   "execution_count": null,
   "id": "1523170e-907d-4a35-9ed8-cd91c76212e9",
   "metadata": {
    "tags": []
   },
   "outputs": [],
   "source": [
    "\n",
    "\n",
    "\n",
    "texts = df['persons'].tolist()\n",
    "\n",
    "\n",
    "\n",
    "with open(df_path, 'w', encoding='utf-8') as file:\n",
    "    for text in texts:\n",
    "        file.write(text + '\\n')\n",
    "\n",
    "        \n",
    "\n",
    "\n",
    "model_path = 'model.bin'\n",
    "\n",
    "\n",
    "model = fasttext.train_unsupervised(df_path, model='skipgram')\n",
    "\n",
    "\n",
    "model.save_model(model_path)\n",
    "\n",
    "model = fasttext.load_model(model_path)\n",
    "\n",
    "df['vectorized_persons'] = df['persons'].apply(lambda x: model.get_sentence_vector(x))\n",
    "\n",
    "\n"
   ]
  },
  {
   "cell_type": "code",
   "execution_count": null,
   "id": "c52f9fbd-03e8-4294-9c7a-24437224733f",
   "metadata": {
    "tags": []
   },
   "outputs": [],
   "source": [
    "\n",
    "texts = df['organizations'].tolist()\n",
    "\n",
    "\n",
    "\n",
    "with open(df_path, 'w', encoding='utf-8') as file:\n",
    "    for text in texts:\n",
    "        file.write(text + '\\n')\n",
    "\n",
    " \n",
    "model_path = 'model.bin'\n",
    "\n",
    "\n",
    "model = fasttext.train_unsupervised(df_path, model='skipgram')\n",
    "\n",
    "\n",
    "model.save_model(model_path)\n",
    "\n",
    "\n",
    "model = fasttext.load_model(model_path)\n",
    "\n",
    "df['vectorized_organizations'] = df['organizations'].apply(lambda x: model.get_sentence_vector(x))\n",
    "\n",
    "\n"
   ]
  },
  {
   "cell_type": "code",
   "execution_count": null,
   "id": "f9466492-e578-465b-acf1-606e96076c23",
   "metadata": {
    "tags": []
   },
   "outputs": [],
   "source": [
    "\n",
    "\n",
    "\n",
    "texts = df['locations'].tolist()\n",
    "\n",
    "\n",
    "\n",
    "with open(df_path, 'w', encoding='utf-8') as file:\n",
    "    for text in texts:\n",
    "        file.write(text + '\\n')\n",
    "\n",
    "\n",
    "model_path = 'model.bin'\n",
    "\n",
    "\n",
    "model = fasttext.train_unsupervised(df_path, model='skipgram')\n",
    "\n",
    "\n",
    "model.save_model(model_path)\n",
    "\n",
    "model = fasttext.load_model(model_path)\n",
    "\n",
    "df['vectorized_locations'] = df['locations'].apply(lambda x: model.get_sentence_vector(x))\n",
    "\n",
    "\n"
   ]
  },
  {
   "cell_type": "code",
   "execution_count": null,
   "id": "b9fc3ce1-17cb-416b-b436-289fd45c7dfd",
   "metadata": {},
   "outputs": [],
   "source": [
    "merged_df['persons'], merged_df['organizations'], merged_df['locations'] = zip(*merged_df.apply(lambda row: process_text(f\"{row['channel']} {row['tv_show']} {row['video_title']}\"), axis=1))\n",
    "\n",
    "merged_df['locations'] = merged_df['locations'].apply(lambda x: ', '.join(x) if len(x) > 0 else 'авлвд')\n",
    "merged_df['persons'] = merged_df['persons'].apply(lambda x: ', '.join(x) if len(x) > 0 else 'авлвд')\n",
    "merged_df['organizations'] = merged_df['organizations'].apply(lambda x: ', '.join(x) if len(x) > 0 else 'авлвд')"
   ]
  },
  {
   "cell_type": "code",
   "execution_count": 79,
   "id": "46633959-4fbf-42d1-9f36-87c034d74928",
   "metadata": {
    "execution": {
     "iopub.execute_input": "2023-11-25T08:49:15.400938Z",
     "iopub.status.busy": "2023-11-25T08:49:15.399958Z",
     "iopub.status.idle": "2023-11-25T08:49:15.421882Z",
     "shell.execute_reply": "2023-11-25T08:49:15.421076Z",
     "shell.execute_reply.started": "2023-11-25T08:49:15.400891Z"
    },
    "tags": []
   },
   "outputs": [],
   "source": [
    "sentiment_mapping = {\n",
    "    'exact': 4,\n",
    "    'useful': 3,\n",
    "    'could_be_better': 2,\n",
    "    'сlickbait': 1,\n",
    "    'uselessly': 0\n",
    "}\n",
    "\n",
    "\n",
    "df['sentiment'] = df['sentiment'].map(sentiment_mapping)\n"
   ]
  },
  {
   "cell_type": "code",
   "execution_count": null,
   "id": "8fb50e7d-5167-466a-a230-927b3962908c",
   "metadata": {
    "tags": []
   },
   "outputs": [],
   "source": [
    "columns_to_replace = ['chanell_vec', 'tv_show_vec', 'category_vec', 'video_title_vec',\n",
    "                       'vectorized_persons', 'vectorized_organizations', 'vectorized_locations']\n",
    "\n",
    "\n",
    "def cosine_similarity(vec1, vec2):\n",
    "    norm1 = np.linalg.norm(vec1)\n",
    "    norm2 = np.linalg.norm(vec2)\n",
    "\n",
    "    if norm1 == 0 or norm2 == 0:\n",
    "        return 0  # Или другое значение, в зависимости от вашей логики обработки\n",
    "\n",
    "    return 1 - np.dot(vec1, vec2) / (norm1 * norm2)\n",
    "\n",
    "# Создайте новые колонки с расстояниями\n",
    "for col in columns_to_replace:\n",
    "    col_vectorized_query = col + \"_vectorized_query\"\n",
    "    df[col_vectorized_query] = df.apply(lambda row: cosine_similarity(row[col], row['vectorized_query']), axis=1)\n",
    "\n",
    "df = df.drop(columns=columns_to_replace)"
   ]
  },
  {
   "cell_type": "code",
   "execution_count": 15,
   "id": "01aaee44-6eda-4550-ba3b-ac160fede1c1",
   "metadata": {
    "execution": {
     "iopub.execute_input": "2023-11-25T09:52:56.732467Z",
     "iopub.status.busy": "2023-11-25T09:52:56.731639Z",
     "iopub.status.idle": "2023-11-25T09:52:57.257650Z",
     "shell.execute_reply": "2023-11-25T09:52:57.256796Z",
     "shell.execute_reply.started": "2023-11-25T09:52:56.732425Z"
    },
    "tags": []
   },
   "outputs": [],
   "source": [
    "df=pd.read_parquet('/home/jupyter/datasphere/project/data_vect_dist.parquet')"
   ]
  },
  {
   "cell_type": "code",
   "execution_count": null,
   "id": "564672f3-155d-4dea-9519-8352688e81ef",
   "metadata": {
    "tags": []
   },
   "outputs": [],
   "source": [
    "params = {\n",
    "    'iterations': 300,\n",
    "    'learning_rate': 0.01,\n",
    "    'depth': 3,\n",
    "    'loss_function': 'QuerySoftMax',\n",
    "    'custom_metric': 'NDCG:top=100',\n",
    "}\n",
    "\n",
    "# Определение целевой переменной и признаков\n",
    "target_column = 'sentiment'\n",
    "feature_columns = ['duration', 'emotion', 'vtop', 'comment', 'v_month_views', 'v_cr_click_like_30_days', \n",
    "                   'chanell_vec_vectorized_query', 'category_vec_vectorized_query', \n",
    "                   'video_title_vec_vectorized_query','vectorized_persons_vectorized_query',\n",
    "                   'vectorized_organizations_vectorized_query','vectorized_locations_vectorized_query']\n",
    "\n",
    "\n",
    "\n",
    "\n",
    "train_size = int(0.8 * len(df))\n",
    "train_data = df[:train_size]\n",
    "test_data = df[train_size:]\n",
    "\n",
    "\n",
    "train_pool = Pool(data=train_data[feature_columns], label=train_data[target_column], group_id=train_data['video_id'])\n",
    "test_pool = Pool(data=test_data[feature_columns], label=test_data[target_column], group_id=test_data['video_id'])\n",
    "\n",
    "model = CatBoostRanker(**params)\n",
    "model.fit(train_pool, eval_set=test_pool)\n",
    "\n",
    "eval_metrics = model.eval_metrics(test_pool, metrics=['NDCG:top=10'])\n",
    "\n",
    "\n",
    "print(eval_metrics)\n",
    "\n"
   ]
  },
  {
   "cell_type": "code",
   "execution_count": 87,
   "id": "63930775-ffe1-4cb8-82d5-097677cffc15",
   "metadata": {
    "execution": {
     "iopub.execute_input": "2023-11-25T10:16:13.622017Z",
     "iopub.status.busy": "2023-11-25T10:16:13.621224Z",
     "iopub.status.idle": "2023-11-25T10:16:13.638302Z",
     "shell.execute_reply": "2023-11-25T10:16:13.637540Z",
     "shell.execute_reply.started": "2023-11-25T10:16:13.621980Z"
    },
    "tags": []
   },
   "outputs": [],
   "source": [
    "drg = pd.read_csv('/home/jupyter/datasphere/project/submission_queries.csv')"
   ]
  },
  {
   "cell_type": "code",
   "execution_count": 89,
   "id": "e8190962-09b6-43cf-8ab9-7907be770aed",
   "metadata": {
    "execution": {
     "iopub.execute_input": "2023-11-25T10:16:13.660432Z",
     "iopub.status.busy": "2023-11-25T10:16:13.659826Z",
     "iopub.status.idle": "2023-11-25T10:16:14.187104Z",
     "shell.execute_reply": "2023-11-25T10:16:14.186160Z",
     "shell.execute_reply.started": "2023-11-25T10:16:13.660397Z"
    },
    "tags": []
   },
   "outputs": [],
   "source": [
    "dtwtd=pd.read_parquet('data_names_vec.parquet')"
   ]
  },
  {
   "cell_type": "code",
   "execution_count": null,
   "id": "24b75432-ca38-45bd-8092-6d3e900a0b48",
   "metadata": {
    "tags": []
   },
   "outputs": [],
   "source": [
    "dtwtd = dtwtd.drop(columns=['sentiment'])"
   ]
  },
  {
   "cell_type": "code",
   "execution_count": 105,
   "id": "e0ec320e-a5de-4376-809b-0ba4e9d78494",
   "metadata": {
    "execution": {
     "iopub.execute_input": "2023-11-25T10:19:01.075721Z",
     "iopub.status.busy": "2023-11-25T10:19:01.074791Z",
     "iopub.status.idle": "2023-11-25T10:19:01.114637Z",
     "shell.execute_reply": "2023-11-25T10:19:01.113781Z",
     "shell.execute_reply.started": "2023-11-25T10:19:01.075681Z"
    },
    "tags": []
   },
   "outputs": [],
   "source": [
    "first_query = drg.loc[93, 'query']\n",
    "\n",
    "\n",
    "dtwtd['query'] = first_query\n"
   ]
  },
  {
   "cell_type": "code",
   "execution_count": null,
   "id": "9d6fe9f5-0001-45df-a021-74a62f779540",
   "metadata": {
    "tags": []
   },
   "outputs": [],
   "source": [
    "columns_to_replace = ['chanell_vec_vectorized_query', 'category_vec_vectorized_query', 'video_title_vec',\n",
    "                       'vectorized_persons', 'vectorized_organizations', 'vectorized_locations']\n",
    "\n",
    "\n",
    "def cosine_similarity(vec1, vec2):\n",
    "    norm1 = np.linalg.norm(vec1)\n",
    "    norm2 = np.linalg.norm(vec2)\n",
    "\n",
    "    if norm1 == 0 or norm2 == 0:\n",
    "        return 0  \n",
    "\n",
    "    return 1 - np.dot(vec1, vec2) / (norm1 * norm2)\n",
    "\n",
    "for col in columns_to_replace:\n",
    "    col_vectorized_query = col + \"_vectorized_query\"\n",
    "    dtwtd[col_vectorized_query] = dtwtd.apply(lambda row: cosine_similarity(row[col], row['vectorized_query']), axis=1)\n",
    "\n",
    "dtwtd = dtwtd.drop(columns=columns_to_replace)"
   ]
  },
  {
   "cell_type": "code",
   "execution_count": 95,
   "id": "3bf7bad8-e48c-461d-9e8f-32ec8544b88e",
   "metadata": {
    "execution": {
     "iopub.execute_input": "2023-11-25T10:16:31.656363Z",
     "iopub.status.busy": "2023-11-25T10:16:31.655434Z",
     "iopub.status.idle": "2023-11-25T10:16:31.704647Z",
     "shell.execute_reply": "2023-11-25T10:16:31.703798Z",
     "shell.execute_reply.started": "2023-11-25T10:16:31.656309Z"
    },
    "tags": []
   },
   "outputs": [],
   "source": [
    "columns_to_predict = dtwtd[['duration', 'emotion', 'vtop', 'comment', 'v_month_views', 'v_cr_click_like_30_days', \n",
    "                   'chanell_vec_vectorized_query', 'category_vec_vectorized_query', \n",
    "                   'video_title_vec_vectorized_query','vectorized_persons_vectorized_query',\n",
    "                   'vectorized_organizations_vectorized_query','vectorized_locations_vectorized_query']]  # Замените на ваши фактические имена колонок\n",
    "\n",
    "\n",
    "predictions = model.predict(columns_to_predict)"
   ]
  },
  {
   "cell_type": "code",
   "execution_count": 96,
   "id": "723b3127-7b75-4ca7-8210-fbb73501a82a",
   "metadata": {
    "execution": {
     "iopub.execute_input": "2023-11-25T10:16:32.410386Z",
     "iopub.status.busy": "2023-11-25T10:16:32.409606Z",
     "iopub.status.idle": "2023-11-25T10:16:32.431497Z",
     "shell.execute_reply": "2023-11-25T10:16:32.430632Z",
     "shell.execute_reply.started": "2023-11-25T10:16:32.410344Z"
    },
    "tags": []
   },
   "outputs": [
    {
     "data": {
      "text/plain": [
       "array([-0.00015568, -0.00015568, -0.00015568, ...,  0.00168864,\n",
       "       -0.00015568, -0.00015568])"
      ]
     },
     "execution_count": 96,
     "metadata": {},
     "output_type": "execute_result"
    }
   ],
   "source": [
    "\n",
    "predictions"
   ]
  },
  {
   "cell_type": "code",
   "execution_count": null,
   "id": "5fe2a0f9-21b4-49a0-aea3-1fee52650c09",
   "metadata": {
    "tags": []
   },
   "outputs": [],
   "source": []
  },
  {
   "cell_type": "code",
   "execution_count": 110,
   "id": "75dfac09-13ec-43b1-95de-2672ff5c06ea",
   "metadata": {
    "execution": {
     "iopub.execute_input": "2023-11-25T10:54:57.873171Z",
     "iopub.status.busy": "2023-11-25T10:54:57.872231Z",
     "iopub.status.idle": "2023-11-25T10:54:57.978081Z",
     "shell.execute_reply": "2023-11-25T10:54:57.977234Z",
     "shell.execute_reply.started": "2023-11-25T10:54:57.873112Z"
    },
    "tags": []
   },
   "outputs": [
    {
     "data": {
      "text/html": [
       "<div>\n",
       "<style scoped>\n",
       "    .dataframe tbody tr th:only-of-type {\n",
       "        vertical-align: middle;\n",
       "    }\n",
       "\n",
       "    .dataframe tbody tr th {\n",
       "        vertical-align: top;\n",
       "    }\n",
       "\n",
       "    .dataframe thead th {\n",
       "        text-align: right;\n",
       "    }\n",
       "</style>\n",
       "<table border=\"1\" class=\"dataframe\">\n",
       "  <thead>\n",
       "    <tr style=\"text-align: right;\">\n",
       "      <th></th>\n",
       "      <th>query</th>\n",
       "      <th>video_id</th>\n",
       "      <th>duration</th>\n",
       "      <th>emotion</th>\n",
       "      <th>vtop</th>\n",
       "      <th>comment</th>\n",
       "      <th>channel</th>\n",
       "      <th>tv_show</th>\n",
       "      <th>v_category</th>\n",
       "      <th>v_month_views</th>\n",
       "      <th>v_cr_click_like_30_days</th>\n",
       "      <th>video_title</th>\n",
       "      <th>vectorized_query</th>\n",
       "      <th>time_difference_hours</th>\n",
       "      <th>persons</th>\n",
       "      <th>organizations</th>\n",
       "      <th>locations</th>\n",
       "      <th>chanell_vec_vectorized_query</th>\n",
       "      <th>tv_show_vec_vectorized_query</th>\n",
       "      <th>category_vec_vectorized_query</th>\n",
       "      <th>video_title_vec_vectorized_query</th>\n",
       "      <th>vectorized_persons_vectorized_query</th>\n",
       "      <th>vectorized_organizations_vectorized_query</th>\n",
       "      <th>vectorized_locations_vectorized_query</th>\n",
       "      <th>predictions</th>\n",
       "    </tr>\n",
       "  </thead>\n",
       "  <tbody>\n",
       "    <tr>\n",
       "      <th>5014949</th>\n",
       "      <td>Битва экстрасенсов  2023</td>\n",
       "      <td>video_12290749</td>\n",
       "      <td>12612480</td>\n",
       "      <td>0</td>\n",
       "      <td>0</td>\n",
       "      <td>0</td>\n",
       "      <td>PREMIER онлайн-кинотеатр</td>\n",
       "      <td></td>\n",
       "      <td>Сериалы</td>\n",
       "      <td>93902.0</td>\n",
       "      <td>0.000831</td>\n",
       "      <td>Новые пацанки | Первая серия нового сезона | P...</td>\n",
       "      <td>[-0.015514161, 0.2887959, 0.020781705, 0.07575...</td>\n",
       "      <td>966.970278</td>\n",
       "      <td>авлвд</td>\n",
       "      <td>premier</td>\n",
       "      <td>авлвд</td>\n",
       "      <td>1.147738</td>\n",
       "      <td>0.0</td>\n",
       "      <td>1.072039</td>\n",
       "      <td>0.863557</td>\n",
       "      <td>1.146986</td>\n",
       "      <td>1.066942</td>\n",
       "      <td>0.865334</td>\n",
       "      <td>0.010829</td>\n",
       "    </tr>\n",
       "    <tr>\n",
       "      <th>5015161</th>\n",
       "      <td>Битва экстрасенсов  2023</td>\n",
       "      <td>video_12290749</td>\n",
       "      <td>12612480</td>\n",
       "      <td>0</td>\n",
       "      <td>0</td>\n",
       "      <td>0</td>\n",
       "      <td>PREMIER онлайн-кинотеатр</td>\n",
       "      <td></td>\n",
       "      <td>Сериалы</td>\n",
       "      <td>93902.0</td>\n",
       "      <td>0.000831</td>\n",
       "      <td>Новые пацанки | Первая серия нового сезона | P...</td>\n",
       "      <td>[-0.015514161, 0.2887959, 0.020781705, 0.07575...</td>\n",
       "      <td>966.970278</td>\n",
       "      <td>авлвд</td>\n",
       "      <td>premier</td>\n",
       "      <td>авлвд</td>\n",
       "      <td>1.147738</td>\n",
       "      <td>0.0</td>\n",
       "      <td>1.072039</td>\n",
       "      <td>0.863557</td>\n",
       "      <td>1.146986</td>\n",
       "      <td>1.066942</td>\n",
       "      <td>0.865334</td>\n",
       "      <td>0.010829</td>\n",
       "    </tr>\n",
       "    <tr>\n",
       "      <th>5018440</th>\n",
       "      <td>Битва экстрасенсов  2023</td>\n",
       "      <td>video_12290749</td>\n",
       "      <td>12612480</td>\n",
       "      <td>0</td>\n",
       "      <td>0</td>\n",
       "      <td>0</td>\n",
       "      <td>PREMIER онлайн-кинотеатр</td>\n",
       "      <td></td>\n",
       "      <td>Сериалы</td>\n",
       "      <td>93902.0</td>\n",
       "      <td>0.000831</td>\n",
       "      <td>Новые пацанки | Первая серия нового сезона | P...</td>\n",
       "      <td>[-0.015514161, 0.2887959, 0.020781705, 0.07575...</td>\n",
       "      <td>966.970278</td>\n",
       "      <td>авлвд</td>\n",
       "      <td>premier</td>\n",
       "      <td>авлвд</td>\n",
       "      <td>1.147738</td>\n",
       "      <td>0.0</td>\n",
       "      <td>1.072039</td>\n",
       "      <td>0.863557</td>\n",
       "      <td>1.146986</td>\n",
       "      <td>1.066942</td>\n",
       "      <td>0.865334</td>\n",
       "      <td>0.010829</td>\n",
       "    </tr>\n",
       "    <tr>\n",
       "      <th>5015164</th>\n",
       "      <td>Битва экстрасенсов  2023</td>\n",
       "      <td>video_12290749</td>\n",
       "      <td>12612480</td>\n",
       "      <td>0</td>\n",
       "      <td>0</td>\n",
       "      <td>0</td>\n",
       "      <td>PREMIER онлайн-кинотеатр</td>\n",
       "      <td></td>\n",
       "      <td>Сериалы</td>\n",
       "      <td>93902.0</td>\n",
       "      <td>0.000831</td>\n",
       "      <td>Новые пацанки | Первая серия нового сезона | P...</td>\n",
       "      <td>[-0.015514161, 0.2887959, 0.020781705, 0.07575...</td>\n",
       "      <td>966.970278</td>\n",
       "      <td>авлвд</td>\n",
       "      <td>premier</td>\n",
       "      <td>авлвд</td>\n",
       "      <td>1.147738</td>\n",
       "      <td>0.0</td>\n",
       "      <td>1.072039</td>\n",
       "      <td>0.863557</td>\n",
       "      <td>1.146986</td>\n",
       "      <td>1.066942</td>\n",
       "      <td>0.865334</td>\n",
       "      <td>0.010829</td>\n",
       "    </tr>\n",
       "    <tr>\n",
       "      <th>5015166</th>\n",
       "      <td>Битва экстрасенсов  2023</td>\n",
       "      <td>video_12290749</td>\n",
       "      <td>12612480</td>\n",
       "      <td>0</td>\n",
       "      <td>0</td>\n",
       "      <td>0</td>\n",
       "      <td>PREMIER онлайн-кинотеатр</td>\n",
       "      <td></td>\n",
       "      <td>Сериалы</td>\n",
       "      <td>93902.0</td>\n",
       "      <td>0.000831</td>\n",
       "      <td>Новые пацанки | Первая серия нового сезона | P...</td>\n",
       "      <td>[-0.015514161, 0.2887959, 0.020781705, 0.07575...</td>\n",
       "      <td>966.970278</td>\n",
       "      <td>авлвд</td>\n",
       "      <td>premier</td>\n",
       "      <td>авлвд</td>\n",
       "      <td>1.147738</td>\n",
       "      <td>0.0</td>\n",
       "      <td>1.072039</td>\n",
       "      <td>0.863557</td>\n",
       "      <td>1.146986</td>\n",
       "      <td>1.066942</td>\n",
       "      <td>0.865334</td>\n",
       "      <td>0.010829</td>\n",
       "    </tr>\n",
       "  </tbody>\n",
       "</table>\n",
       "</div>"
      ],
      "text/plain": [
       "                            query  ... predictions\n",
       "5014949  Битва экстрасенсов  2023  ...    0.010829\n",
       "5015161  Битва экстрасенсов  2023  ...    0.010829\n",
       "5018440  Битва экстрасенсов  2023  ...    0.010829\n",
       "5015164  Битва экстрасенсов  2023  ...    0.010829\n",
       "5015166  Битва экстрасенсов  2023  ...    0.010829\n",
       "\n",
       "[5 rows x 25 columns]"
      ]
     },
     "execution_count": 110,
     "metadata": {},
     "output_type": "execute_result"
    }
   ],
   "source": [
    "dtwtd['predictions'] = predictions\n",
    "dtwtd_sorted = dtwtd.sort_values(by='predictions', ascending=False)\n",
    "\n",
    "# Выводим самые релевантные запросы (например, первые 10)\n",
    "top_queries = dtwtd_sorted.head(5)\n",
    "top_queries"
   ]
  },
  {
   "cell_type": "code",
   "execution_count": null,
   "id": "91fe7f33-5fba-46ed-a716-817a8e7bd9d4",
   "metadata": {},
   "outputs": [],
   "source": []
  }
 ],
 "metadata": {
  "kernelspec": {
   "display_name": "DataSphere Kernel",
   "language": "python",
   "name": "python3"
  },
  "language_info": {
   "codemirror_mode": {
    "name": "ipython",
    "version": 3
   },
   "file_extension": ".py",
   "mimetype": "text/x-python",
   "name": "python",
   "nbconvert_exporter": "python",
   "pygments_lexer": "ipython3",
   "version": "3.7.7"
  }
 },
 "nbformat": 4,
 "nbformat_minor": 5
}
