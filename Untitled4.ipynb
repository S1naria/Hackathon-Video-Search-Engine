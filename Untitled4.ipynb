{
 "cells": [
  {
   "cell_type": "code",
   "execution_count": 9,
   "id": "714be6b4-7cc3-4f3b-8535-3c5297c17483",
   "metadata": {
    "execution": {
     "iopub.execute_input": "2023-11-25T09:49:56.174604Z",
     "iopub.status.busy": "2023-11-25T09:49:56.173685Z",
     "iopub.status.idle": "2023-11-25T09:49:56.306817Z",
     "shell.execute_reply": "2023-11-25T09:49:56.305940Z",
     "shell.execute_reply.started": "2023-11-25T09:49:56.174546Z"
    },
    "tags": []
   },
   "outputs": [],
   "source": [
    "import pandas as pd\n",
    "import fasttext\n",
    "from catboost import CatBoostRanker, Pool\n",
    "from scipy.spatial.distance import cosine\n",
    "import numpy as np"
   ]
  },
  {
   "cell_type": "code",
   "execution_count": 56,
   "id": "4897a6c7-90c5-437b-a3f2-81396e96def6",
   "metadata": {
    "tags": []
   },
   "outputs": [],
   "source": [
    "file_path = r\"D:\\RUTUBE\\automarkup.parquet\"\n",
    "\n",
    "df_aum = pd.read_parquet(file_path)"
   ]
  },
  {
   "cell_type": "code",
   "execution_count": 71,
   "id": "8ce19594-de06-4405-8ce1-7b0bf3d14cb0",
   "metadata": {
    "tags": []
   },
   "outputs": [],
   "source": [
    "df_aum['emotion'] = np.where(df['emotion'] == 0, 0, 1)\n",
    "df_aum['vtop'] = df_aum['vtop'].map({None: 0, True: 1})\n",
    "\n",
    "df_aum = df_aum.drop(columns=['season', 'is_authorized', 'position', 'watchtime'])\n"
   ]
  },
  {
   "cell_type": "code",
   "execution_count": 87,
   "id": "b48fa98c-1189-4e4c-80e9-6af2388095a9",
   "metadata": {
    "tags": []
   },
   "outputs": [],
   "source": [
    "feat = pd.read_parquet(\"D:/RUTUBE/features/features_nov.parquet\")"
   ]
  },
  {
   "cell_type": "code",
   "execution_count": 94,
   "id": "9d1a8fcd-5b85-4a68-863d-97ecd94e8f0c",
   "metadata": {
    "tags": []
   },
   "outputs": [
    {
     "data": {
      "text/html": [
       "<div>\n",
       "<style scoped>\n",
       "    .dataframe tbody tr th:only-of-type {\n",
       "        vertical-align: middle;\n",
       "    }\n",
       "\n",
       "    .dataframe tbody tr th {\n",
       "        vertical-align: top;\n",
       "    }\n",
       "\n",
       "    .dataframe thead th {\n",
       "        text-align: right;\n",
       "    }\n",
       "</style>\n",
       "<table border=\"1\" class=\"dataframe\">\n",
       "  <thead>\n",
       "    <tr style=\"text-align: right;\">\n",
       "      <th></th>\n",
       "      <th>datetime</th>\n",
       "      <th>query</th>\n",
       "      <th>video_id</th>\n",
       "      <th>duration</th>\n",
       "      <th>emotion</th>\n",
       "      <th>vtop</th>\n",
       "      <th>comment</th>\n",
       "      <th>channel</th>\n",
       "      <th>tv_show</th>\n",
       "      <th>v_channel_type</th>\n",
       "      <th>v_category</th>\n",
       "      <th>v_pub_datetime</th>\n",
       "      <th>v_month_views</th>\n",
       "      <th>v_cr_click_like_30_days</th>\n",
       "    </tr>\n",
       "  </thead>\n",
       "  <tbody>\n",
       "    <tr>\n",
       "      <th>0</th>\n",
       "      <td>2023-07-03 14:29:34+03:00</td>\n",
       "      <td>приют комедиантов роман бабаян</td>\n",
       "      <td>video_3049590</td>\n",
       "      <td>2279019</td>\n",
       "      <td>0</td>\n",
       "      <td>0</td>\n",
       "      <td>0</td>\n",
       "      <td>ТЕЛЕКАНАЛ ЗВЕЗДА</td>\n",
       "      <td>Десять мгновений</td>\n",
       "      <td>ТВ И СМИ</td>\n",
       "      <td>Телепередачи</td>\n",
       "      <td>2022-06-11 22:00:14</td>\n",
       "      <td>48.0</td>\n",
       "      <td>0.020833</td>\n",
       "    </tr>\n",
       "    <tr>\n",
       "      <th>1</th>\n",
       "      <td>2023-07-20 04:39:07+03:00</td>\n",
       "      <td>бабаян роман</td>\n",
       "      <td>video_3049590</td>\n",
       "      <td>2279019</td>\n",
       "      <td>0</td>\n",
       "      <td>0</td>\n",
       "      <td>0</td>\n",
       "      <td>ТЕЛЕКАНАЛ ЗВЕЗДА</td>\n",
       "      <td>Десять мгновений</td>\n",
       "      <td>ТВ И СМИ</td>\n",
       "      <td>Телепередачи</td>\n",
       "      <td>2022-06-11 22:00:14</td>\n",
       "      <td>48.0</td>\n",
       "      <td>0.020833</td>\n",
       "    </tr>\n",
       "    <tr>\n",
       "      <th>2</th>\n",
       "      <td>2023-08-10 17:39:06+03:00</td>\n",
       "      <td>роман бабаян</td>\n",
       "      <td>video_3049590</td>\n",
       "      <td>2279019</td>\n",
       "      <td>0</td>\n",
       "      <td>0</td>\n",
       "      <td>0</td>\n",
       "      <td>ТЕЛЕКАНАЛ ЗВЕЗДА</td>\n",
       "      <td>Десять мгновений</td>\n",
       "      <td>ТВ И СМИ</td>\n",
       "      <td>Телепередачи</td>\n",
       "      <td>2022-06-11 22:00:14</td>\n",
       "      <td>48.0</td>\n",
       "      <td>0.020833</td>\n",
       "    </tr>\n",
       "    <tr>\n",
       "      <th>3</th>\n",
       "      <td>2023-07-03 17:09:31+03:00</td>\n",
       "      <td>битва экстрасенсов 2019 год</td>\n",
       "      <td>video_31592942</td>\n",
       "      <td>4259447</td>\n",
       "      <td>0</td>\n",
       "      <td>0</td>\n",
       "      <td>0</td>\n",
       "      <td>Экстрасенсы. Битва сильнейших</td>\n",
       "      <td>Экстрасенсы. Битва сильнейших</td>\n",
       "      <td>ТВ И СМИ</td>\n",
       "      <td>Телепередачи</td>\n",
       "      <td>2021-04-30 19:34:10</td>\n",
       "      <td>31180.0</td>\n",
       "      <td>0.000930</td>\n",
       "    </tr>\n",
       "    <tr>\n",
       "      <th>4</th>\n",
       "      <td>2023-07-03 15:13:37+03:00</td>\n",
       "      <td>битва сильнейших 2 сезон</td>\n",
       "      <td>video_31592942</td>\n",
       "      <td>4259447</td>\n",
       "      <td>0</td>\n",
       "      <td>0</td>\n",
       "      <td>0</td>\n",
       "      <td>Экстрасенсы. Битва сильнейших</td>\n",
       "      <td>Экстрасенсы. Битва сильнейших</td>\n",
       "      <td>ТВ И СМИ</td>\n",
       "      <td>Телепередачи</td>\n",
       "      <td>2021-04-30 19:34:10</td>\n",
       "      <td>31180.0</td>\n",
       "      <td>0.000930</td>\n",
       "    </tr>\n",
       "    <tr>\n",
       "      <th>...</th>\n",
       "      <td>...</td>\n",
       "      <td>...</td>\n",
       "      <td>...</td>\n",
       "      <td>...</td>\n",
       "      <td>...</td>\n",
       "      <td>...</td>\n",
       "      <td>...</td>\n",
       "      <td>...</td>\n",
       "      <td>...</td>\n",
       "      <td>...</td>\n",
       "      <td>...</td>\n",
       "      <td>...</td>\n",
       "      <td>...</td>\n",
       "      <td>...</td>\n",
       "    </tr>\n",
       "    <tr>\n",
       "      <th>6234419</th>\n",
       "      <td>2023-05-27 11:48:44+03:00</td>\n",
       "      <td>Приколы тик ток</td>\n",
       "      <td>video_9286960</td>\n",
       "      <td>917560</td>\n",
       "      <td>0</td>\n",
       "      <td>0</td>\n",
       "      <td>0</td>\n",
       "      <td>Территория Юмора</td>\n",
       "      <td>None</td>\n",
       "      <td>UGC</td>\n",
       "      <td>Юмор</td>\n",
       "      <td>2023-03-30 00:48:46</td>\n",
       "      <td>7.0</td>\n",
       "      <td>0.000000</td>\n",
       "    </tr>\n",
       "    <tr>\n",
       "      <th>6234420</th>\n",
       "      <td>2023-05-27 20:02:00+03:00</td>\n",
       "      <td>тру крайм</td>\n",
       "      <td>video_17050166</td>\n",
       "      <td>852353</td>\n",
       "      <td>0</td>\n",
       "      <td>0</td>\n",
       "      <td>0</td>\n",
       "      <td>Тру Крайм</td>\n",
       "      <td>None</td>\n",
       "      <td>UGC</td>\n",
       "      <td>Фильмы</td>\n",
       "      <td>2022-07-29 10:00:25</td>\n",
       "      <td>9.0</td>\n",
       "      <td>0.111111</td>\n",
       "    </tr>\n",
       "    <tr>\n",
       "      <th>6234421</th>\n",
       "      <td>2023-05-27 22:35:26+03:00</td>\n",
       "      <td>3 рейх</td>\n",
       "      <td>video_18666796</td>\n",
       "      <td>3003246</td>\n",
       "      <td>0</td>\n",
       "      <td>0</td>\n",
       "      <td>0</td>\n",
       "      <td>ТЕЛЕКАНАЛ ЗВЕЗДА</td>\n",
       "      <td>Фильмы онлайн</td>\n",
       "      <td>ТВ И СМИ</td>\n",
       "      <td>Разное</td>\n",
       "      <td>2023-01-25 22:45:42</td>\n",
       "      <td>10.0</td>\n",
       "      <td>0.000000</td>\n",
       "    </tr>\n",
       "    <tr>\n",
       "      <th>6234422</th>\n",
       "      <td>2023-05-27 14:22:23+03:00</td>\n",
       "      <td>финист терра</td>\n",
       "      <td>video_6492689</td>\n",
       "      <td>59815</td>\n",
       "      <td>0</td>\n",
       "      <td>0</td>\n",
       "      <td>0</td>\n",
       "      <td>МК \"ФинистТерра\"</td>\n",
       "      <td>None</td>\n",
       "      <td>UGC</td>\n",
       "      <td>Бизнес и предпринимательство</td>\n",
       "      <td>2023-02-01 06:02:06</td>\n",
       "      <td>0.0</td>\n",
       "      <td>0.000000</td>\n",
       "    </tr>\n",
       "    <tr>\n",
       "      <th>6234423</th>\n",
       "      <td>2023-05-27 13:45:10+03:00</td>\n",
       "      <td>финист терра фасад</td>\n",
       "      <td>video_6492689</td>\n",
       "      <td>59815</td>\n",
       "      <td>0</td>\n",
       "      <td>0</td>\n",
       "      <td>0</td>\n",
       "      <td>МК \"ФинистТерра\"</td>\n",
       "      <td>None</td>\n",
       "      <td>UGC</td>\n",
       "      <td>Бизнес и предпринимательство</td>\n",
       "      <td>2023-02-01 06:02:06</td>\n",
       "      <td>0.0</td>\n",
       "      <td>0.000000</td>\n",
       "    </tr>\n",
       "  </tbody>\n",
       "</table>\n",
       "<p>6234424 rows × 14 columns</p>\n",
       "</div>"
      ],
      "text/plain": [
       "                          datetime                           query  \\\n",
       "0        2023-07-03 14:29:34+03:00  приют комедиантов роман бабаян   \n",
       "1        2023-07-20 04:39:07+03:00                    бабаян роман   \n",
       "2        2023-08-10 17:39:06+03:00                    роман бабаян   \n",
       "3        2023-07-03 17:09:31+03:00     битва экстрасенсов 2019 год   \n",
       "4        2023-07-03 15:13:37+03:00        битва сильнейших 2 сезон   \n",
       "...                            ...                             ...   \n",
       "6234419  2023-05-27 11:48:44+03:00                 Приколы тик ток   \n",
       "6234420  2023-05-27 20:02:00+03:00                      тру крайм    \n",
       "6234421  2023-05-27 22:35:26+03:00                          3 рейх   \n",
       "6234422  2023-05-27 14:22:23+03:00                    финист терра   \n",
       "6234423  2023-05-27 13:45:10+03:00              финист терра фасад   \n",
       "\n",
       "               video_id  duration  emotion  vtop  comment  \\\n",
       "0         video_3049590   2279019        0     0        0   \n",
       "1         video_3049590   2279019        0     0        0   \n",
       "2         video_3049590   2279019        0     0        0   \n",
       "3        video_31592942   4259447        0     0        0   \n",
       "4        video_31592942   4259447        0     0        0   \n",
       "...                 ...       ...      ...   ...      ...   \n",
       "6234419   video_9286960    917560        0     0        0   \n",
       "6234420  video_17050166    852353        0     0        0   \n",
       "6234421  video_18666796   3003246        0     0        0   \n",
       "6234422   video_6492689     59815        0     0        0   \n",
       "6234423   video_6492689     59815        0     0        0   \n",
       "\n",
       "                               channel                        tv_show  \\\n",
       "0                     ТЕЛЕКАНАЛ ЗВЕЗДА               Десять мгновений   \n",
       "1                     ТЕЛЕКАНАЛ ЗВЕЗДА               Десять мгновений   \n",
       "2                     ТЕЛЕКАНАЛ ЗВЕЗДА               Десять мгновений   \n",
       "3        Экстрасенсы. Битва сильнейших  Экстрасенсы. Битва сильнейших   \n",
       "4        Экстрасенсы. Битва сильнейших  Экстрасенсы. Битва сильнейших   \n",
       "...                                ...                            ...   \n",
       "6234419               Территория Юмора                           None   \n",
       "6234420                      Тру Крайм                           None   \n",
       "6234421               ТЕЛЕКАНАЛ ЗВЕЗДА                  Фильмы онлайн   \n",
       "6234422               МК \"ФинистТерра\"                           None   \n",
       "6234423               МК \"ФинистТерра\"                           None   \n",
       "\n",
       "        v_channel_type                    v_category       v_pub_datetime  \\\n",
       "0             ТВ И СМИ                  Телепередачи  2022-06-11 22:00:14   \n",
       "1             ТВ И СМИ                  Телепередачи  2022-06-11 22:00:14   \n",
       "2             ТВ И СМИ                  Телепередачи  2022-06-11 22:00:14   \n",
       "3             ТВ И СМИ                  Телепередачи  2021-04-30 19:34:10   \n",
       "4             ТВ И СМИ                  Телепередачи  2021-04-30 19:34:10   \n",
       "...                ...                           ...                  ...   \n",
       "6234419            UGC                          Юмор  2023-03-30 00:48:46   \n",
       "6234420            UGC                        Фильмы  2022-07-29 10:00:25   \n",
       "6234421       ТВ И СМИ                        Разное  2023-01-25 22:45:42   \n",
       "6234422            UGC  Бизнес и предпринимательство  2023-02-01 06:02:06   \n",
       "6234423            UGC  Бизнес и предпринимательство  2023-02-01 06:02:06   \n",
       "\n",
       "         v_month_views  v_cr_click_like_30_days  \n",
       "0                 48.0                 0.020833  \n",
       "1                 48.0                 0.020833  \n",
       "2                 48.0                 0.020833  \n",
       "3              31180.0                 0.000930  \n",
       "4              31180.0                 0.000930  \n",
       "...                ...                      ...  \n",
       "6234419            7.0                 0.000000  \n",
       "6234420            9.0                 0.111111  \n",
       "6234421           10.0                 0.000000  \n",
       "6234422            0.0                 0.000000  \n",
       "6234423            0.0                 0.000000  \n",
       "\n",
       "[6234424 rows x 14 columns]"
      ]
     },
     "execution_count": 94,
     "metadata": {},
     "output_type": "execute_result"
    }
   ],
   "source": [
    "df_aum = pd.merge(df_aum, feat[['video_id', 'v_channel_type', 'v_category', 'v_pub_datetime', 'v_month_views', 'v_cr_click_like_30_days']], on='video_id', how='left')"
   ]
  },
  {
   "cell_type": "code",
   "execution_count": 99,
   "id": "e6f57d1c-385a-498f-88b7-894919e9b5e5",
   "metadata": {
    "tags": []
   },
   "outputs": [],
   "source": [
    "df_aum.dropna(subset=['v_channel_type', 'v_category', 'v_pub_datetime', 'v_month_views', 'v_cr_click_like_30_days'], inplace=True)\n"
   ]
  },
  {
   "cell_type": "code",
   "execution_count": 101,
   "id": "1d1268ac-3a4d-496d-8bb6-f36f077068f8",
   "metadata": {
    "tags": []
   },
   "outputs": [],
   "source": [
    "df_aum.dropna(subset=['channel'], inplace=True)"
   ]
  },
  {
   "cell_type": "code",
   "execution_count": 106,
   "id": "6ab9f398-e521-4f69-b5e5-d6453da04cf0",
   "metadata": {
    "tags": []
   },
   "outputs": [],
   "source": [
    "df_aum['tv_show'].fillna('', inplace=True)"
   ]
  },
  {
   "cell_type": "code",
   "execution_count": 2,
   "id": "2facff8c-9cb1-4a93-905b-b1a26239f474",
   "metadata": {
    "tags": []
   },
   "outputs": [
    {
     "ename": "NameError",
     "evalue": "name 'df_aum' is not defined",
     "output_type": "error",
     "traceback": [
      "\u001b[1;31m---------------------------------------------------------------------------\u001b[0m",
      "\u001b[1;31mNameError\u001b[0m                                 Traceback (most recent call last)",
      "Cell \u001b[1;32mIn[2], line 1\u001b[0m\n\u001b[1;32m----> 1\u001b[0m df_aum\u001b[38;5;241m.\u001b[39mto_parquet(\u001b[38;5;124m'\u001b[39m\u001b[38;5;124mD:/RUTUBE/data.parquet\u001b[39m\u001b[38;5;124m'\u001b[39m)\n",
      "\u001b[1;31mNameError\u001b[0m: name 'df_aum' is not defined"
     ]
    }
   ],
   "source": [
    "df_aum.to_parquet('D:/RUTUBE/data.parquet')"
   ]
  },
  {
   "cell_type": "code",
   "execution_count": 12,
   "id": "3df5ce2d-ce77-48aa-bae0-dea8e802fe28",
   "metadata": {
    "tags": []
   },
   "outputs": [],
   "source": [
    "dfd = pd.read_parquet(\"D:/RUTUBE/data.parquet\")"
   ]
  },
  {
   "cell_type": "code",
   "execution_count": 6,
   "id": "a9d503e9-9f6d-4cdc-aec7-20a5b4055fd1",
   "metadata": {
    "tags": []
   },
   "outputs": [],
   "source": [
    "df_vid = pd.read_parquet(\"D:/RUTUBE/videos.parquet\")"
   ]
  },
  {
   "cell_type": "code",
   "execution_count": 15,
   "id": "5cce21e9-b9d9-4c2b-a75a-7ff792a9031d",
   "metadata": {
    "tags": []
   },
   "outputs": [],
   "source": [
    "dfd = pd.merge(dfd, df_vid[['video_id', 'video_title']], on='video_id', how='left')"
   ]
  },
  {
   "cell_type": "code",
   "execution_count": 17,
   "id": "88d48f7e-110d-4da2-a495-ea5e3264c691",
   "metadata": {
    "tags": []
   },
   "outputs": [],
   "source": [
    "dfd.to_parquet('D:/RUTUBE/data1.parquet')"
   ]
  },
  {
   "cell_type": "code",
   "execution_count": null,
   "id": "525bff8f-3a9e-4470-91d6-f713382ee8ae",
   "metadata": {},
   "outputs": [],
   "source": [
    "df_path = '/home/jupyter/datasphere/project/copy_of_dwn.parquet'\n",
    "df = pd.read_parquet(df_path)"
   ]
  },
  {
   "cell_type": "code",
   "execution_count": 12,
   "id": "1523170e-907d-4a35-9ed8-cd91c76212e9",
   "metadata": {
    "execution": {
     "iopub.execute_input": "2023-11-25T07:40:53.626051Z",
     "iopub.status.busy": "2023-11-25T07:40:53.624945Z",
     "iopub.status.idle": "2023-11-25T07:41:02.448571Z",
     "shell.execute_reply": "2023-11-25T07:41:02.447674Z",
     "shell.execute_reply.started": "2023-11-25T07:40:53.625996Z"
    },
    "tags": []
   },
   "outputs": [
    {
     "name": "stdout",
     "output_type": "stream",
     "text": [
      "Хуй 1\n",
      "Хуй 2\n"
     ]
    },
    {
     "name": "stderr",
     "output_type": "stream",
     "text": [
      "Read 0M words\n",
      "Number of words:  140\n",
      "Number of labels: 0\n",
      "Progress:  74.3% words/sec/thread: 2129195 lr:  0.012846 avg.loss:  1.259848 ETA:   0h 0m 0s"
     ]
    },
    {
     "name": "stdout",
     "output_type": "stream",
     "text": [
      "Хуй 3"
     ]
    },
    {
     "name": "stderr",
     "output_type": "stream",
     "text": [
      "Progress: 100.0% words/sec/thread: 1415008 lr:  0.000000 avg.loss:  1.169567 ETA:   0h 0m 0s\n"
     ]
    },
    {
     "name": "stdout",
     "output_type": "stream",
     "text": [
      "\n",
      "Хуй 4\n",
      "Хуй 5\n"
     ]
    },
    {
     "name": "stderr",
     "output_type": "stream",
     "text": [
      "Warning : `load_model` does not return WordVectorModel or SupervisedModel any more, but a `FastText` object which is very similar.\n"
     ]
    }
   ],
   "source": [
    "\n",
    "\n",
    "\n",
    "texts = df['persons'].tolist()\n",
    "\n",
    "\n",
    "\n",
    "with open(df_path, 'w', encoding='utf-8') as file:\n",
    "    for text in texts:\n",
    "        file.write(text + '\\n')\n",
    "\n",
    "        \n",
    "\n",
    "\n",
    "model_path = 'model.bin'\n",
    "\n",
    "\n",
    "model = fasttext.train_unsupervised(df_path, model='skipgram')\n",
    "\n",
    "\n",
    "model.save_model(model_path)\n",
    "\n",
    "model = fasttext.load_model(model_path)\n",
    "\n",
    "df['vectorized_persons'] = df['persons'].apply(lambda x: model.get_sentence_vector(x))\n",
    "\n",
    "\n"
   ]
  },
  {
   "cell_type": "code",
   "execution_count": 14,
   "id": "c52f9fbd-03e8-4294-9c7a-24437224733f",
   "metadata": {
    "execution": {
     "iopub.execute_input": "2023-11-25T07:42:05.338849Z",
     "iopub.status.busy": "2023-11-25T07:42:05.337943Z",
     "iopub.status.idle": "2023-11-25T07:42:14.359998Z",
     "shell.execute_reply": "2023-11-25T07:42:14.359140Z",
     "shell.execute_reply.started": "2023-11-25T07:42:05.338796Z"
    },
    "tags": []
   },
   "outputs": [
    {
     "name": "stdout",
     "output_type": "stream",
     "text": [
      "Хуй 1\n",
      "Хуй 2\n"
     ]
    },
    {
     "name": "stderr",
     "output_type": "stream",
     "text": [
      "Read 0M words\n",
      "Number of words:  158\n",
      "Number of labels: 0\n",
      "Progress: 100.0% words/sec/thread: 1984437 lr:  0.000000 avg.loss:  1.145050 ETA:   0h 0m 0s\n"
     ]
    },
    {
     "name": "stdout",
     "output_type": "stream",
     "text": [
      "Хуй 3\n",
      "Хуй 4\n",
      "Хуй 5\n"
     ]
    },
    {
     "name": "stderr",
     "output_type": "stream",
     "text": [
      "Warning : `load_model` does not return WordVectorModel or SupervisedModel any more, but a `FastText` object which is very similar.\n"
     ]
    }
   ],
   "source": [
    "\n",
    "texts = df['organizations'].tolist()\n",
    "\n",
    "\n",
    "\n",
    "with open(df_path, 'w', encoding='utf-8') as file:\n",
    "    for text in texts:\n",
    "        file.write(text + '\\n')\n",
    "\n",
    " \n",
    "model_path = 'model.bin'\n",
    "\n",
    "\n",
    "model = fasttext.train_unsupervised(df_path, model='skipgram')\n",
    "\n",
    "\n",
    "model.save_model(model_path)\n",
    "\n",
    "\n",
    "model = fasttext.load_model(model_path)\n",
    "\n",
    "df['vectorized_organizations'] = df['organizations'].apply(lambda x: model.get_sentence_vector(x))\n",
    "\n",
    "\n"
   ]
  },
  {
   "cell_type": "code",
   "execution_count": 15,
   "id": "f9466492-e578-465b-acf1-606e96076c23",
   "metadata": {
    "execution": {
     "iopub.execute_input": "2023-11-25T07:42:38.618583Z",
     "iopub.status.busy": "2023-11-25T07:42:38.617542Z",
     "iopub.status.idle": "2023-11-25T07:42:47.342728Z",
     "shell.execute_reply": "2023-11-25T07:42:47.341864Z",
     "shell.execute_reply.started": "2023-11-25T07:42:38.618535Z"
    }
   },
   "outputs": [
    {
     "name": "stdout",
     "output_type": "stream",
     "text": [
      "Хуй 1\n",
      "Хуй 2\n"
     ]
    },
    {
     "name": "stderr",
     "output_type": "stream",
     "text": [
      "Read 0M words\n",
      "Number of words:  33\n",
      "Number of labels: 0\n",
      "Progress: 100.0% words/sec/thread: 3257245 lr:  0.000000 avg.loss:  1.557592 ETA:   0h 0m 0s\n",
      "Warning : `load_model` does not return WordVectorModel or SupervisedModel any more, but a `FastText` object which is very similar.\n"
     ]
    },
    {
     "name": "stdout",
     "output_type": "stream",
     "text": [
      "Хуй 3\n",
      "Хуй 4\n",
      "Хуй 5\n"
     ]
    }
   ],
   "source": [
    "\n",
    "\n",
    "\n",
    "texts = df['locations'].tolist()\n",
    "\n",
    "\n",
    "\n",
    "with open(df_path, 'w', encoding='utf-8') as file:\n",
    "    for text in texts:\n",
    "        file.write(text + '\\n')\n",
    "\n",
    "\n",
    "model_path = 'model.bin'\n",
    "\n",
    "\n",
    "model = fasttext.train_unsupervised(df_path, model='skipgram')\n",
    "\n",
    "\n",
    "model.save_model(model_path)\n",
    "\n",
    "model = fasttext.load_model(model_path)\n",
    "\n",
    "df['vectorized_locations'] = df['locations'].apply(lambda x: model.get_sentence_vector(x))\n",
    "\n",
    "\n"
   ]
  },
  {
   "cell_type": "code",
   "execution_count": null,
   "id": "b9fc3ce1-17cb-416b-b436-289fd45c7dfd",
   "metadata": {},
   "outputs": [],
   "source": [
    "merged_df['persons'], merged_df['organizations'], merged_df['locations'] = zip(*merged_df.apply(lambda row: process_text(f\"{row['channel']} {row['tv_show']} {row['video_title']}\"), axis=1))\n",
    "\n",
    "merged_df['locations'] = merged_df['locations'].apply(lambda x: ', '.join(x) if len(x) > 0 else 'авлвд')\n",
    "merged_df['persons'] = merged_df['persons'].apply(lambda x: ', '.join(x) if len(x) > 0 else 'авлвд')\n",
    "merged_df['organizations'] = merged_df['organizations'].apply(lambda x: ', '.join(x) if len(x) > 0 else 'авлвд')"
   ]
  },
  {
   "cell_type": "code",
   "execution_count": 79,
   "id": "46633959-4fbf-42d1-9f36-87c034d74928",
   "metadata": {
    "execution": {
     "iopub.execute_input": "2023-11-25T08:49:15.400938Z",
     "iopub.status.busy": "2023-11-25T08:49:15.399958Z",
     "iopub.status.idle": "2023-11-25T08:49:15.421882Z",
     "shell.execute_reply": "2023-11-25T08:49:15.421076Z",
     "shell.execute_reply.started": "2023-11-25T08:49:15.400891Z"
    },
    "tags": []
   },
   "outputs": [],
   "source": [
    "sentiment_mapping = {\n",
    "    'exact': 4,\n",
    "    'useful': 3,\n",
    "    'could_be_better': 2,\n",
    "    'сlickbait': 1,\n",
    "    'uselessly': 0\n",
    "}\n",
    "\n",
    "\n",
    "df['sentiment'] = df['sentiment'].map(sentiment_mapping)\n"
   ]
  },
  {
   "cell_type": "code",
   "execution_count": 14,
   "id": "8fb50e7d-5167-466a-a230-927b3962908c",
   "metadata": {
    "execution": {
     "iopub.execute_input": "2023-11-25T09:52:17.238398Z",
     "iopub.status.busy": "2023-11-25T09:52:17.237449Z",
     "iopub.status.idle": "2023-11-25T09:52:29.623596Z",
     "shell.execute_reply": "2023-11-25T09:52:29.622104Z",
     "shell.execute_reply.started": "2023-11-25T09:52:17.238359Z"
    },
    "tags": []
   },
   "outputs": [
    {
     "ename": "KeyboardInterrupt",
     "evalue": "",
     "output_type": "error",
     "traceback": [
      "\u001b[0;31m---------------------------------------------------------------------------\u001b[0m",
      "\u001b[0;31mKeyboardInterrupt\u001b[0m                         Traceback (most recent call last)",
      "\u001b[0;32m<ipython-input-14-38e91333f2ad>\u001b[0m in \u001b[0;36m<module>\u001b[0;34m\u001b[0m\n\u001b[1;32m     15\u001b[0m \u001b[0;32mfor\u001b[0m \u001b[0mcol\u001b[0m \u001b[0;32min\u001b[0m \u001b[0mcolumns_to_replace\u001b[0m\u001b[0;34m:\u001b[0m\u001b[0;34m\u001b[0m\u001b[0;34m\u001b[0m\u001b[0m\n\u001b[1;32m     16\u001b[0m     \u001b[0mcol_vectorized_query\u001b[0m \u001b[0;34m=\u001b[0m \u001b[0mcol\u001b[0m \u001b[0;34m+\u001b[0m \u001b[0;34m\"_vectorized_query\"\u001b[0m\u001b[0;34m\u001b[0m\u001b[0;34m\u001b[0m\u001b[0m\n\u001b[0;32m---> 17\u001b[0;31m     \u001b[0mdf\u001b[0m\u001b[0;34m[\u001b[0m\u001b[0mcol_vectorized_query\u001b[0m\u001b[0;34m]\u001b[0m \u001b[0;34m=\u001b[0m \u001b[0mdf\u001b[0m\u001b[0;34m.\u001b[0m\u001b[0mapply\u001b[0m\u001b[0;34m(\u001b[0m\u001b[0;32mlambda\u001b[0m \u001b[0mrow\u001b[0m\u001b[0;34m:\u001b[0m \u001b[0mcosine_similarity\u001b[0m\u001b[0;34m(\u001b[0m\u001b[0mrow\u001b[0m\u001b[0;34m[\u001b[0m\u001b[0mcol\u001b[0m\u001b[0;34m]\u001b[0m\u001b[0;34m,\u001b[0m \u001b[0mrow\u001b[0m\u001b[0;34m[\u001b[0m\u001b[0;34m'vectorized_query'\u001b[0m\u001b[0;34m]\u001b[0m\u001b[0;34m)\u001b[0m\u001b[0;34m,\u001b[0m \u001b[0maxis\u001b[0m\u001b[0;34m=\u001b[0m\u001b[0;36m1\u001b[0m\u001b[0;34m)\u001b[0m\u001b[0;34m\u001b[0m\u001b[0;34m\u001b[0m\u001b[0m\n\u001b[0m\u001b[1;32m     18\u001b[0m \u001b[0;34m\u001b[0m\u001b[0m\n\u001b[1;32m     19\u001b[0m \u001b[0mdf\u001b[0m \u001b[0;34m=\u001b[0m \u001b[0mdf\u001b[0m\u001b[0;34m.\u001b[0m\u001b[0mdrop\u001b[0m\u001b[0;34m(\u001b[0m\u001b[0mcolumns\u001b[0m\u001b[0;34m=\u001b[0m\u001b[0mcolumns_to_replace\u001b[0m\u001b[0;34m)\u001b[0m\u001b[0;34m\u001b[0m\u001b[0;34m\u001b[0m\u001b[0m\n",
      "\u001b[0;32m~/.local/lib/python3.10/site-packages/pandas/core/frame.py\u001b[0m in \u001b[0;36mapply\u001b[0;34m(self, func, axis, raw, result_type, args, by_row, **kwargs)\u001b[0m\n\u001b[1;32m  10032\u001b[0m             \u001b[0mkwargs\u001b[0m\u001b[0;34m=\u001b[0m\u001b[0mkwargs\u001b[0m\u001b[0;34m,\u001b[0m\u001b[0;34m\u001b[0m\u001b[0;34m\u001b[0m\u001b[0m\n\u001b[1;32m  10033\u001b[0m         )\n\u001b[0;32m> 10034\u001b[0;31m         \u001b[0;32mreturn\u001b[0m \u001b[0mop\u001b[0m\u001b[0;34m.\u001b[0m\u001b[0mapply\u001b[0m\u001b[0;34m(\u001b[0m\u001b[0;34m)\u001b[0m\u001b[0;34m.\u001b[0m\u001b[0m__finalize__\u001b[0m\u001b[0;34m(\u001b[0m\u001b[0mself\u001b[0m\u001b[0;34m,\u001b[0m \u001b[0mmethod\u001b[0m\u001b[0;34m=\u001b[0m\u001b[0;34m\"apply\"\u001b[0m\u001b[0;34m)\u001b[0m\u001b[0;34m\u001b[0m\u001b[0;34m\u001b[0m\u001b[0m\n\u001b[0m\u001b[1;32m  10035\u001b[0m \u001b[0;34m\u001b[0m\u001b[0m\n\u001b[1;32m  10036\u001b[0m     def map(\n",
      "\u001b[0;32m~/.local/lib/python3.10/site-packages/pandas/core/apply.py\u001b[0m in \u001b[0;36mapply\u001b[0;34m(self)\u001b[0m\n\u001b[1;32m    835\u001b[0m             \u001b[0;32mreturn\u001b[0m \u001b[0mself\u001b[0m\u001b[0;34m.\u001b[0m\u001b[0mapply_raw\u001b[0m\u001b[0;34m(\u001b[0m\u001b[0;34m)\u001b[0m\u001b[0;34m\u001b[0m\u001b[0;34m\u001b[0m\u001b[0m\n\u001b[1;32m    836\u001b[0m \u001b[0;34m\u001b[0m\u001b[0m\n\u001b[0;32m--> 837\u001b[0;31m         \u001b[0;32mreturn\u001b[0m \u001b[0mself\u001b[0m\u001b[0;34m.\u001b[0m\u001b[0mapply_standard\u001b[0m\u001b[0;34m(\u001b[0m\u001b[0;34m)\u001b[0m\u001b[0;34m\u001b[0m\u001b[0;34m\u001b[0m\u001b[0m\n\u001b[0m\u001b[1;32m    838\u001b[0m \u001b[0;34m\u001b[0m\u001b[0m\n\u001b[1;32m    839\u001b[0m     \u001b[0;32mdef\u001b[0m \u001b[0magg\u001b[0m\u001b[0;34m(\u001b[0m\u001b[0mself\u001b[0m\u001b[0;34m)\u001b[0m\u001b[0;34m:\u001b[0m\u001b[0;34m\u001b[0m\u001b[0;34m\u001b[0m\u001b[0m\n",
      "\u001b[0;32m~/.local/lib/python3.10/site-packages/pandas/core/apply.py\u001b[0m in \u001b[0;36mapply_standard\u001b[0;34m(self)\u001b[0m\n\u001b[1;32m    961\u001b[0m \u001b[0;34m\u001b[0m\u001b[0m\n\u001b[1;32m    962\u001b[0m     \u001b[0;32mdef\u001b[0m \u001b[0mapply_standard\u001b[0m\u001b[0;34m(\u001b[0m\u001b[0mself\u001b[0m\u001b[0;34m)\u001b[0m\u001b[0;34m:\u001b[0m\u001b[0;34m\u001b[0m\u001b[0;34m\u001b[0m\u001b[0m\n\u001b[0;32m--> 963\u001b[0;31m         \u001b[0mresults\u001b[0m\u001b[0;34m,\u001b[0m \u001b[0mres_index\u001b[0m \u001b[0;34m=\u001b[0m \u001b[0mself\u001b[0m\u001b[0;34m.\u001b[0m\u001b[0mapply_series_generator\u001b[0m\u001b[0;34m(\u001b[0m\u001b[0;34m)\u001b[0m\u001b[0;34m\u001b[0m\u001b[0;34m\u001b[0m\u001b[0m\n\u001b[0m\u001b[1;32m    964\u001b[0m \u001b[0;34m\u001b[0m\u001b[0m\n\u001b[1;32m    965\u001b[0m         \u001b[0;31m# wrap results\u001b[0m\u001b[0;34m\u001b[0m\u001b[0;34m\u001b[0m\u001b[0m\n",
      "\u001b[0;32m~/.local/lib/python3.10/site-packages/pandas/core/apply.py\u001b[0m in \u001b[0;36mapply_series_generator\u001b[0;34m(self)\u001b[0m\n\u001b[1;32m    977\u001b[0m             \u001b[0;32mfor\u001b[0m \u001b[0mi\u001b[0m\u001b[0;34m,\u001b[0m \u001b[0mv\u001b[0m \u001b[0;32min\u001b[0m \u001b[0menumerate\u001b[0m\u001b[0;34m(\u001b[0m\u001b[0mseries_gen\u001b[0m\u001b[0;34m)\u001b[0m\u001b[0;34m:\u001b[0m\u001b[0;34m\u001b[0m\u001b[0;34m\u001b[0m\u001b[0m\n\u001b[1;32m    978\u001b[0m                 \u001b[0;31m# ignore SettingWithCopy here in case the user mutates\u001b[0m\u001b[0;34m\u001b[0m\u001b[0;34m\u001b[0m\u001b[0m\n\u001b[0;32m--> 979\u001b[0;31m                 \u001b[0mresults\u001b[0m\u001b[0;34m[\u001b[0m\u001b[0mi\u001b[0m\u001b[0;34m]\u001b[0m \u001b[0;34m=\u001b[0m \u001b[0mself\u001b[0m\u001b[0;34m.\u001b[0m\u001b[0mfunc\u001b[0m\u001b[0;34m(\u001b[0m\u001b[0mv\u001b[0m\u001b[0;34m,\u001b[0m \u001b[0;34m*\u001b[0m\u001b[0mself\u001b[0m\u001b[0;34m.\u001b[0m\u001b[0margs\u001b[0m\u001b[0;34m,\u001b[0m \u001b[0;34m**\u001b[0m\u001b[0mself\u001b[0m\u001b[0;34m.\u001b[0m\u001b[0mkwargs\u001b[0m\u001b[0;34m)\u001b[0m\u001b[0;34m\u001b[0m\u001b[0;34m\u001b[0m\u001b[0m\n\u001b[0m\u001b[1;32m    980\u001b[0m                 \u001b[0;32mif\u001b[0m \u001b[0misinstance\u001b[0m\u001b[0;34m(\u001b[0m\u001b[0mresults\u001b[0m\u001b[0;34m[\u001b[0m\u001b[0mi\u001b[0m\u001b[0;34m]\u001b[0m\u001b[0;34m,\u001b[0m \u001b[0mABCSeries\u001b[0m\u001b[0;34m)\u001b[0m\u001b[0;34m:\u001b[0m\u001b[0;34m\u001b[0m\u001b[0;34m\u001b[0m\u001b[0m\n\u001b[1;32m    981\u001b[0m                     \u001b[0;31m# If we have a view on v, we need to make a copy because\u001b[0m\u001b[0;34m\u001b[0m\u001b[0;34m\u001b[0m\u001b[0m\n",
      "\u001b[0;32m<ipython-input-14-38e91333f2ad>\u001b[0m in \u001b[0;36m<lambda>\u001b[0;34m(row)\u001b[0m\n\u001b[1;32m     15\u001b[0m \u001b[0;32mfor\u001b[0m \u001b[0mcol\u001b[0m \u001b[0;32min\u001b[0m \u001b[0mcolumns_to_replace\u001b[0m\u001b[0;34m:\u001b[0m\u001b[0;34m\u001b[0m\u001b[0;34m\u001b[0m\u001b[0m\n\u001b[1;32m     16\u001b[0m     \u001b[0mcol_vectorized_query\u001b[0m \u001b[0;34m=\u001b[0m \u001b[0mcol\u001b[0m \u001b[0;34m+\u001b[0m \u001b[0;34m\"_vectorized_query\"\u001b[0m\u001b[0;34m\u001b[0m\u001b[0;34m\u001b[0m\u001b[0m\n\u001b[0;32m---> 17\u001b[0;31m     \u001b[0mdf\u001b[0m\u001b[0;34m[\u001b[0m\u001b[0mcol_vectorized_query\u001b[0m\u001b[0;34m]\u001b[0m \u001b[0;34m=\u001b[0m \u001b[0mdf\u001b[0m\u001b[0;34m.\u001b[0m\u001b[0mapply\u001b[0m\u001b[0;34m(\u001b[0m\u001b[0;32mlambda\u001b[0m \u001b[0mrow\u001b[0m\u001b[0;34m:\u001b[0m \u001b[0mcosine_similarity\u001b[0m\u001b[0;34m(\u001b[0m\u001b[0mrow\u001b[0m\u001b[0;34m[\u001b[0m\u001b[0mcol\u001b[0m\u001b[0;34m]\u001b[0m\u001b[0;34m,\u001b[0m \u001b[0mrow\u001b[0m\u001b[0;34m[\u001b[0m\u001b[0;34m'vectorized_query'\u001b[0m\u001b[0;34m]\u001b[0m\u001b[0;34m)\u001b[0m\u001b[0;34m,\u001b[0m \u001b[0maxis\u001b[0m\u001b[0;34m=\u001b[0m\u001b[0;36m1\u001b[0m\u001b[0;34m)\u001b[0m\u001b[0;34m\u001b[0m\u001b[0;34m\u001b[0m\u001b[0m\n\u001b[0m\u001b[1;32m     18\u001b[0m \u001b[0;34m\u001b[0m\u001b[0m\n\u001b[1;32m     19\u001b[0m \u001b[0mdf\u001b[0m \u001b[0;34m=\u001b[0m \u001b[0mdf\u001b[0m\u001b[0;34m.\u001b[0m\u001b[0mdrop\u001b[0m\u001b[0;34m(\u001b[0m\u001b[0mcolumns\u001b[0m\u001b[0;34m=\u001b[0m\u001b[0mcolumns_to_replace\u001b[0m\u001b[0;34m)\u001b[0m\u001b[0;34m\u001b[0m\u001b[0;34m\u001b[0m\u001b[0m\n",
      "\u001b[0;32m<ipython-input-14-38e91333f2ad>\u001b[0m in \u001b[0;36mcosine_similarity\u001b[0;34m(vec1, vec2)\u001b[0m\n\u001b[1;32m     10\u001b[0m         \u001b[0;32mreturn\u001b[0m \u001b[0;36m0\u001b[0m  \u001b[0;31m# Или другое значение, в зависимости от вашей логики обработки\u001b[0m\u001b[0;34m\u001b[0m\u001b[0;34m\u001b[0m\u001b[0m\n\u001b[1;32m     11\u001b[0m \u001b[0;34m\u001b[0m\u001b[0m\n\u001b[0;32m---> 12\u001b[0;31m     \u001b[0;32mreturn\u001b[0m \u001b[0;36m1\u001b[0m \u001b[0;34m-\u001b[0m \u001b[0mnp\u001b[0m\u001b[0;34m.\u001b[0m\u001b[0mdot\u001b[0m\u001b[0;34m(\u001b[0m\u001b[0mvec1\u001b[0m\u001b[0;34m,\u001b[0m \u001b[0mvec2\u001b[0m\u001b[0;34m)\u001b[0m \u001b[0;34m/\u001b[0m \u001b[0;34m(\u001b[0m\u001b[0mnorm1\u001b[0m \u001b[0;34m*\u001b[0m \u001b[0mnorm2\u001b[0m\u001b[0;34m)\u001b[0m\u001b[0;34m\u001b[0m\u001b[0;34m\u001b[0m\u001b[0m\n\u001b[0m\u001b[1;32m     13\u001b[0m \u001b[0;34m\u001b[0m\u001b[0m\n\u001b[1;32m     14\u001b[0m \u001b[0;31m# Создайте новые колонки с расстояниями\u001b[0m\u001b[0;34m\u001b[0m\u001b[0;34m\u001b[0m\u001b[0m\n",
      "\u001b[0;31mKeyboardInterrupt\u001b[0m: "
     ]
    }
   ],
   "source": [
    "columns_to_replace = ['chanell_vec', 'tv_show_vec', 'category_vec', 'video_title_vec',\n",
    "                       'vectorized_persons', 'vectorized_organizations', 'vectorized_locations']\n",
    "\n",
    "\n",
    "def cosine_similarity(vec1, vec2):\n",
    "    norm1 = np.linalg.norm(vec1)\n",
    "    norm2 = np.linalg.norm(vec2)\n",
    "\n",
    "    if norm1 == 0 or norm2 == 0:\n",
    "        return 0  # Или другое значение, в зависимости от вашей логики обработки\n",
    "\n",
    "    return 1 - np.dot(vec1, vec2) / (norm1 * norm2)\n",
    "\n",
    "# Создайте новые колонки с расстояниями\n",
    "for col in columns_to_replace:\n",
    "    col_vectorized_query = col + \"_vectorized_query\"\n",
    "    df[col_vectorized_query] = df.apply(lambda row: cosine_similarity(row[col], row['vectorized_query']), axis=1)\n",
    "\n",
    "df = df.drop(columns=columns_to_replace)"
   ]
  },
  {
   "cell_type": "code",
   "execution_count": 15,
   "id": "01aaee44-6eda-4550-ba3b-ac160fede1c1",
   "metadata": {
    "execution": {
     "iopub.execute_input": "2023-11-25T09:52:56.732467Z",
     "iopub.status.busy": "2023-11-25T09:52:56.731639Z",
     "iopub.status.idle": "2023-11-25T09:52:57.257650Z",
     "shell.execute_reply": "2023-11-25T09:52:57.256796Z",
     "shell.execute_reply.started": "2023-11-25T09:52:56.732425Z"
    },
    "tags": []
   },
   "outputs": [],
   "source": [
    "df=pd.read_parquet('/home/jupyter/datasphere/project/data_vect_dist.parquet')"
   ]
  },
  {
   "cell_type": "code",
   "execution_count": 86,
   "id": "564672f3-155d-4dea-9519-8352688e81ef",
   "metadata": {
    "execution": {
     "iopub.execute_input": "2023-11-25T10:13:57.166517Z",
     "iopub.status.busy": "2023-11-25T10:13:57.165530Z",
     "iopub.status.idle": "2023-11-25T10:16:13.620003Z",
     "shell.execute_reply": "2023-11-25T10:16:13.619154Z",
     "shell.execute_reply.started": "2023-11-25T10:13:57.166470Z"
    },
    "tags": []
   },
   "outputs": [
    {
     "name": "stdout",
     "output_type": "stream",
     "text": [
      "0:\tlearn: 8.2930772\ttest: 8.8755562\tbest: 8.8755562 (0)\ttotal: 470ms\tremaining: 2m 20s\n",
      "1:\tlearn: 8.2929469\ttest: 8.8755595\tbest: 8.8755562 (0)\ttotal: 936ms\tremaining: 2m 19s\n",
      "2:\tlearn: 8.2928234\ttest: 8.8755630\tbest: 8.8755562 (0)\ttotal: 1.4s\tremaining: 2m 18s\n",
      "3:\tlearn: 8.2927862\ttest: 8.8755630\tbest: 8.8755562 (0)\ttotal: 1.88s\tremaining: 2m 19s\n",
      "4:\tlearn: 8.2927498\ttest: 8.8755630\tbest: 8.8755562 (0)\ttotal: 2.36s\tremaining: 2m 19s\n",
      "5:\tlearn: 8.2926353\ttest: 8.8755663\tbest: 8.8755562 (0)\ttotal: 2.83s\tremaining: 2m 18s\n",
      "6:\tlearn: 8.2925266\ttest: 8.8755696\tbest: 8.8755562 (0)\ttotal: 3.3s\tremaining: 2m 18s\n",
      "7:\tlearn: 8.2924938\ttest: 8.8755696\tbest: 8.8755562 (0)\ttotal: 3.79s\tremaining: 2m 18s\n",
      "8:\tlearn: 8.2924618\ttest: 8.8755696\tbest: 8.8755562 (0)\ttotal: 4.28s\tremaining: 2m 18s\n",
      "9:\tlearn: 8.2924305\ttest: 8.8755696\tbest: 8.8755562 (0)\ttotal: 4.76s\tremaining: 2m 18s\n",
      "10:\tlearn: 8.2923998\ttest: 8.8755696\tbest: 8.8755562 (0)\ttotal: 5.24s\tremaining: 2m 17s\n",
      "11:\tlearn: 8.2923001\ttest: 8.8755701\tbest: 8.8755562 (0)\ttotal: 5.71s\tremaining: 2m 17s\n",
      "12:\tlearn: 8.2922712\ttest: 8.8755701\tbest: 8.8755562 (0)\ttotal: 6.2s\tremaining: 2m 16s\n",
      "13:\tlearn: 8.2922430\ttest: 8.8755701\tbest: 8.8755562 (0)\ttotal: 6.68s\tremaining: 2m 16s\n",
      "14:\tlearn: 8.2922154\ttest: 8.8755701\tbest: 8.8755562 (0)\ttotal: 7.16s\tremaining: 2m 16s\n",
      "15:\tlearn: 8.2921210\ttest: 8.8755716\tbest: 8.8755562 (0)\ttotal: 7.63s\tremaining: 2m 15s\n",
      "16:\tlearn: 8.2921010\ttest: 8.8755735\tbest: 8.8755562 (0)\ttotal: 8.06s\tremaining: 2m 14s\n",
      "17:\tlearn: 8.2920810\ttest: 8.8755776\tbest: 8.8755562 (0)\ttotal: 8.49s\tremaining: 2m 13s\n",
      "18:\tlearn: 8.2920615\ttest: 8.8755837\tbest: 8.8755562 (0)\ttotal: 8.93s\tremaining: 2m 12s\n",
      "19:\tlearn: 8.2920423\ttest: 8.8755919\tbest: 8.8755562 (0)\ttotal: 9.36s\tremaining: 2m 11s\n",
      "20:\tlearn: 8.2920236\ttest: 8.8756019\tbest: 8.8755562 (0)\ttotal: 9.8s\tremaining: 2m 10s\n",
      "21:\tlearn: 8.2920052\ttest: 8.8756140\tbest: 8.8755562 (0)\ttotal: 10.2s\tremaining: 2m 9s\n",
      "22:\tlearn: 8.2919801\ttest: 8.8756140\tbest: 8.8755562 (0)\ttotal: 10.7s\tremaining: 2m 9s\n",
      "23:\tlearn: 8.2919556\ttest: 8.8756140\tbest: 8.8755562 (0)\ttotal: 11.2s\tremaining: 2m 8s\n",
      "24:\tlearn: 8.2919316\ttest: 8.8756140\tbest: 8.8755562 (0)\ttotal: 11.7s\tremaining: 2m 8s\n",
      "25:\tlearn: 8.2919081\ttest: 8.8756140\tbest: 8.8755562 (0)\ttotal: 12.2s\tremaining: 2m 8s\n",
      "26:\tlearn: 8.2918907\ttest: 8.8756277\tbest: 8.8755562 (0)\ttotal: 12.6s\tremaining: 2m 7s\n",
      "27:\tlearn: 8.2918735\ttest: 8.8756432\tbest: 8.8755562 (0)\ttotal: 13s\tremaining: 2m 6s\n",
      "28:\tlearn: 8.2918508\ttest: 8.8756432\tbest: 8.8755562 (0)\ttotal: 13.5s\tremaining: 2m 6s\n",
      "29:\tlearn: 8.2918286\ttest: 8.8756432\tbest: 8.8755562 (0)\ttotal: 14s\tremaining: 2m 6s\n",
      "30:\tlearn: 8.2918120\ttest: 8.8756602\tbest: 8.8755562 (0)\ttotal: 14.4s\tremaining: 2m 5s\n",
      "31:\tlearn: 8.2917315\ttest: 8.8756541\tbest: 8.8755562 (0)\ttotal: 14.9s\tremaining: 2m 4s\n",
      "32:\tlearn: 8.2917159\ttest: 8.8756716\tbest: 8.8755562 (0)\ttotal: 15.3s\tremaining: 2m 4s\n",
      "33:\tlearn: 8.2917006\ttest: 8.8756903\tbest: 8.8755562 (0)\ttotal: 15.8s\tremaining: 2m 3s\n",
      "34:\tlearn: 8.2916856\ttest: 8.8757107\tbest: 8.8755562 (0)\ttotal: 16.2s\tremaining: 2m 2s\n",
      "35:\tlearn: 8.2916651\ttest: 8.8757107\tbest: 8.8755562 (0)\ttotal: 16.7s\tremaining: 2m 2s\n",
      "36:\tlearn: 8.2916505\ttest: 8.8757325\tbest: 8.8755562 (0)\ttotal: 17.1s\tremaining: 2m 1s\n",
      "37:\tlearn: 8.2916364\ttest: 8.8757548\tbest: 8.8755562 (0)\ttotal: 17.6s\tremaining: 2m 1s\n",
      "38:\tlearn: 8.2916167\ttest: 8.8757548\tbest: 8.8755562 (0)\ttotal: 18s\tremaining: 2m\n",
      "39:\tlearn: 8.2915973\ttest: 8.8757548\tbest: 8.8755562 (0)\ttotal: 18.5s\tremaining: 2m\n",
      "40:\tlearn: 8.2915248\ttest: 8.8757443\tbest: 8.8755562 (0)\ttotal: 19s\tremaining: 1m 59s\n",
      "41:\tlearn: 8.2915114\ttest: 8.8757669\tbest: 8.8755562 (0)\ttotal: 19.4s\tremaining: 1m 59s\n",
      "42:\tlearn: 8.2914934\ttest: 8.8757669\tbest: 8.8755562 (0)\ttotal: 19.9s\tremaining: 1m 59s\n",
      "43:\tlearn: 8.2914865\ttest: 8.8757610\tbest: 8.8755562 (0)\ttotal: 20.3s\tremaining: 1m 58s\n",
      "44:\tlearn: 8.2914676\ttest: 8.8757610\tbest: 8.8755562 (0)\ttotal: 20.7s\tremaining: 1m 57s\n",
      "45:\tlearn: 8.2914490\ttest: 8.8757610\tbest: 8.8755562 (0)\ttotal: 21.2s\tremaining: 1m 56s\n",
      "46:\tlearn: 8.2914364\ttest: 8.8757842\tbest: 8.8755562 (0)\ttotal: 21.6s\tremaining: 1m 56s\n",
      "47:\tlearn: 8.2914240\ttest: 8.8758088\tbest: 8.8755562 (0)\ttotal: 22.1s\tremaining: 1m 55s\n",
      "48:\tlearn: 8.2914073\ttest: 8.8758088\tbest: 8.8755562 (0)\ttotal: 22.5s\tremaining: 1m 55s\n",
      "49:\tlearn: 8.2913897\ttest: 8.8758088\tbest: 8.8755562 (0)\ttotal: 23s\tremaining: 1m 54s\n",
      "50:\tlearn: 8.2913266\ttest: 8.8758111\tbest: 8.8755562 (0)\ttotal: 23.4s\tremaining: 1m 54s\n",
      "51:\tlearn: 8.2912647\ttest: 8.8757981\tbest: 8.8755562 (0)\ttotal: 23.9s\tremaining: 1m 53s\n",
      "52:\tlearn: 8.2912536\ttest: 8.8758216\tbest: 8.8755562 (0)\ttotal: 24.3s\tremaining: 1m 53s\n",
      "53:\tlearn: 8.2912476\ttest: 8.8758151\tbest: 8.8755562 (0)\ttotal: 24.7s\tremaining: 1m 52s\n",
      "54:\tlearn: 8.2912318\ttest: 8.8758151\tbest: 8.8755562 (0)\ttotal: 25.2s\tremaining: 1m 52s\n",
      "55:\tlearn: 8.2912163\ttest: 8.8758151\tbest: 8.8755562 (0)\ttotal: 25.6s\tremaining: 1m 51s\n",
      "56:\tlearn: 8.2912106\ttest: 8.8758089\tbest: 8.8755562 (0)\ttotal: 26s\tremaining: 1m 50s\n",
      "57:\tlearn: 8.2911954\ttest: 8.8758089\tbest: 8.8755562 (0)\ttotal: 26.5s\tremaining: 1m 50s\n",
      "58:\tlearn: 8.2911899\ttest: 8.8758029\tbest: 8.8755562 (0)\ttotal: 26.9s\tremaining: 1m 49s\n",
      "59:\tlearn: 8.2911328\ttest: 8.8757901\tbest: 8.8755562 (0)\ttotal: 27.4s\tremaining: 1m 49s\n",
      "60:\tlearn: 8.2911185\ttest: 8.8757901\tbest: 8.8755562 (0)\ttotal: 27.8s\tremaining: 1m 49s\n",
      "61:\tlearn: 8.2911086\ttest: 8.8758122\tbest: 8.8755562 (0)\ttotal: 28.3s\tremaining: 1m 48s\n",
      "62:\tlearn: 8.2911033\ttest: 8.8758062\tbest: 8.8755562 (0)\ttotal: 28.7s\tremaining: 1m 47s\n",
      "63:\tlearn: 8.2910501\ttest: 8.8757932\tbest: 8.8755562 (0)\ttotal: 29.1s\tremaining: 1m 47s\n",
      "64:\tlearn: 8.2910449\ttest: 8.8757874\tbest: 8.8755562 (0)\ttotal: 29.6s\tremaining: 1m 46s\n",
      "65:\tlearn: 8.2910399\ttest: 8.8757817\tbest: 8.8755562 (0)\ttotal: 30s\tremaining: 1m 46s\n",
      "66:\tlearn: 8.2910267\ttest: 8.8757817\tbest: 8.8755562 (0)\ttotal: 30.4s\tremaining: 1m 45s\n",
      "67:\tlearn: 8.2910218\ttest: 8.8757762\tbest: 8.8755562 (0)\ttotal: 30.9s\tremaining: 1m 45s\n",
      "68:\tlearn: 8.2909716\ttest: 8.8757644\tbest: 8.8755562 (0)\ttotal: 31.3s\tremaining: 1m 44s\n",
      "69:\tlearn: 8.2909668\ttest: 8.8757591\tbest: 8.8755562 (0)\ttotal: 31.7s\tremaining: 1m 44s\n",
      "70:\tlearn: 8.2909589\ttest: 8.8757591\tbest: 8.8755562 (0)\ttotal: 32.2s\tremaining: 1m 43s\n",
      "71:\tlearn: 8.2909108\ttest: 8.8757481\tbest: 8.8755562 (0)\ttotal: 32.7s\tremaining: 1m 43s\n",
      "72:\tlearn: 8.2908990\ttest: 8.8757481\tbest: 8.8755562 (0)\ttotal: 33.1s\tremaining: 1m 42s\n",
      "73:\tlearn: 8.2908887\ttest: 8.8757481\tbest: 8.8755562 (0)\ttotal: 33.6s\tremaining: 1m 42s\n",
      "74:\tlearn: 8.2908772\ttest: 8.8757481\tbest: 8.8755562 (0)\ttotal: 34.1s\tremaining: 1m 42s\n",
      "75:\tlearn: 8.2908728\ttest: 8.8757431\tbest: 8.8755562 (0)\ttotal: 34.5s\tremaining: 1m 41s\n",
      "76:\tlearn: 8.2908648\ttest: 8.8757610\tbest: 8.8755562 (0)\ttotal: 34.9s\tremaining: 1m 41s\n",
      "77:\tlearn: 8.2908537\ttest: 8.8757610\tbest: 8.8755562 (0)\ttotal: 35.3s\tremaining: 1m 40s\n",
      "78:\tlearn: 8.2908495\ttest: 8.8757560\tbest: 8.8755562 (0)\ttotal: 35.7s\tremaining: 1m 40s\n",
      "79:\tlearn: 8.2908050\ttest: 8.8757449\tbest: 8.8755562 (0)\ttotal: 36.2s\tremaining: 1m 39s\n",
      "80:\tlearn: 8.2908009\ttest: 8.8757401\tbest: 8.8755562 (0)\ttotal: 36.6s\tremaining: 1m 39s\n",
      "81:\tlearn: 8.2907835\ttest: 8.8757401\tbest: 8.8755562 (0)\ttotal: 37.1s\tremaining: 1m 38s\n",
      "82:\tlearn: 8.2907765\ttest: 8.8757401\tbest: 8.8755562 (0)\ttotal: 37.6s\tremaining: 1m 38s\n",
      "83:\tlearn: 8.2907596\ttest: 8.8757401\tbest: 8.8755562 (0)\ttotal: 38s\tremaining: 1m 37s\n",
      "84:\tlearn: 8.2907431\ttest: 8.8757401\tbest: 8.8755562 (0)\ttotal: 38.5s\tremaining: 1m 37s\n",
      "85:\tlearn: 8.2907012\ttest: 8.8757329\tbest: 8.8755562 (0)\ttotal: 39s\tremaining: 1m 37s\n",
      "86:\tlearn: 8.2906853\ttest: 8.8757329\tbest: 8.8755562 (0)\ttotal: 39.5s\tremaining: 1m 36s\n",
      "87:\tlearn: 8.2906698\ttest: 8.8757329\tbest: 8.8755562 (0)\ttotal: 40s\tremaining: 1m 36s\n",
      "88:\tlearn: 8.2906629\ttest: 8.8757489\tbest: 8.8755562 (0)\ttotal: 40.4s\tremaining: 1m 35s\n",
      "89:\tlearn: 8.2906562\ttest: 8.8757656\tbest: 8.8755562 (0)\ttotal: 40.8s\tremaining: 1m 35s\n",
      "90:\tlearn: 8.2906498\ttest: 8.8757823\tbest: 8.8755562 (0)\ttotal: 41.3s\tremaining: 1m 34s\n",
      "91:\tlearn: 8.2906436\ttest: 8.8757823\tbest: 8.8755562 (0)\ttotal: 41.7s\tremaining: 1m 34s\n",
      "92:\tlearn: 8.2906287\ttest: 8.8757823\tbest: 8.8755562 (0)\ttotal: 42.2s\tremaining: 1m 33s\n",
      "93:\tlearn: 8.2906141\ttest: 8.8757823\tbest: 8.8755562 (0)\ttotal: 42.7s\tremaining: 1m 33s\n",
      "94:\tlearn: 8.2906108\ttest: 8.8757823\tbest: 8.8755562 (0)\ttotal: 43.1s\tremaining: 1m 33s\n",
      "95:\tlearn: 8.2905965\ttest: 8.8757823\tbest: 8.8755562 (0)\ttotal: 43.6s\tremaining: 1m 32s\n",
      "96:\tlearn: 8.2905591\ttest: 8.8757701\tbest: 8.8755562 (0)\ttotal: 44.1s\tremaining: 1m 32s\n",
      "97:\tlearn: 8.2905454\ttest: 8.8757701\tbest: 8.8755562 (0)\ttotal: 44.6s\tremaining: 1m 31s\n",
      "98:\tlearn: 8.2905423\ttest: 8.8757701\tbest: 8.8755562 (0)\ttotal: 45s\tremaining: 1m 31s\n",
      "99:\tlearn: 8.2905289\ttest: 8.8757701\tbest: 8.8755562 (0)\ttotal: 45.5s\tremaining: 1m 30s\n",
      "100:\tlearn: 8.2905158\ttest: 8.8757701\tbest: 8.8755562 (0)\ttotal: 46s\tremaining: 1m 30s\n",
      "101:\tlearn: 8.2905101\ttest: 8.8757860\tbest: 8.8755562 (0)\ttotal: 46.4s\tremaining: 1m 30s\n",
      "102:\tlearn: 8.2905044\ttest: 8.8758029\tbest: 8.8755562 (0)\ttotal: 46.8s\tremaining: 1m 29s\n",
      "103:\tlearn: 8.2904988\ttest: 8.8758204\tbest: 8.8755562 (0)\ttotal: 47.3s\tremaining: 1m 29s\n",
      "104:\tlearn: 8.2904865\ttest: 8.8758204\tbest: 8.8755562 (0)\ttotal: 47.8s\tremaining: 1m 28s\n",
      "105:\tlearn: 8.2904810\ttest: 8.8758384\tbest: 8.8755562 (0)\ttotal: 48.2s\tremaining: 1m 28s\n",
      "106:\tlearn: 8.2904782\ttest: 8.8758384\tbest: 8.8755562 (0)\ttotal: 48.6s\tremaining: 1m 27s\n",
      "107:\tlearn: 8.2904658\ttest: 8.8758384\tbest: 8.8755562 (0)\ttotal: 49.1s\tremaining: 1m 27s\n",
      "108:\tlearn: 8.2904630\ttest: 8.8758384\tbest: 8.8755562 (0)\ttotal: 49.5s\tremaining: 1m 26s\n",
      "109:\tlearn: 8.2904594\ttest: 8.8758394\tbest: 8.8755562 (0)\ttotal: 49.9s\tremaining: 1m 26s\n",
      "110:\tlearn: 8.2904558\ttest: 8.8758404\tbest: 8.8755562 (0)\ttotal: 50.3s\tremaining: 1m 25s\n",
      "111:\tlearn: 8.2904437\ttest: 8.8758404\tbest: 8.8755562 (0)\ttotal: 50.8s\tremaining: 1m 25s\n",
      "112:\tlearn: 8.2904406\ttest: 8.8758420\tbest: 8.8755562 (0)\ttotal: 51.2s\tremaining: 1m 24s\n",
      "113:\tlearn: 8.2904376\ttest: 8.8758435\tbest: 8.8755562 (0)\ttotal: 51.6s\tremaining: 1m 24s\n",
      "114:\tlearn: 8.2904258\ttest: 8.8758435\tbest: 8.8755562 (0)\ttotal: 52.1s\tremaining: 1m 23s\n",
      "115:\tlearn: 8.2904222\ttest: 8.8758440\tbest: 8.8755562 (0)\ttotal: 52.6s\tremaining: 1m 23s\n",
      "116:\tlearn: 8.2904106\ttest: 8.8758440\tbest: 8.8755562 (0)\ttotal: 53s\tremaining: 1m 22s\n",
      "117:\tlearn: 8.2903993\ttest: 8.8758440\tbest: 8.8755562 (0)\ttotal: 53.5s\tremaining: 1m 22s\n",
      "118:\tlearn: 8.2903958\ttest: 8.8758445\tbest: 8.8755562 (0)\ttotal: 54s\tremaining: 1m 22s\n",
      "119:\tlearn: 8.2903929\ttest: 8.8758460\tbest: 8.8755562 (0)\ttotal: 54.4s\tremaining: 1m 21s\n",
      "120:\tlearn: 8.2903607\ttest: 8.8758568\tbest: 8.8755562 (0)\ttotal: 54.9s\tremaining: 1m 21s\n",
      "121:\tlearn: 8.2903498\ttest: 8.8758568\tbest: 8.8755562 (0)\ttotal: 55.3s\tremaining: 1m 20s\n",
      "122:\tlearn: 8.2903392\ttest: 8.8758568\tbest: 8.8755562 (0)\ttotal: 55.8s\tremaining: 1m 20s\n",
      "123:\tlearn: 8.2903359\ttest: 8.8758573\tbest: 8.8755562 (0)\ttotal: 56.3s\tremaining: 1m 19s\n",
      "124:\tlearn: 8.2903258\ttest: 8.8758573\tbest: 8.8755562 (0)\ttotal: 56.8s\tremaining: 1m 19s\n",
      "125:\tlearn: 8.2903226\ttest: 8.8758577\tbest: 8.8755562 (0)\ttotal: 57.2s\tremaining: 1m 19s\n",
      "126:\tlearn: 8.2903194\ttest: 8.8758581\tbest: 8.8755562 (0)\ttotal: 57.7s\tremaining: 1m 18s\n",
      "127:\tlearn: 8.2902883\ttest: 8.8758428\tbest: 8.8755562 (0)\ttotal: 58.2s\tremaining: 1m 18s\n",
      "128:\tlearn: 8.2902854\ttest: 8.8758436\tbest: 8.8755562 (0)\ttotal: 58.5s\tremaining: 1m 17s\n",
      "129:\tlearn: 8.2902755\ttest: 8.8758436\tbest: 8.8755562 (0)\ttotal: 59s\tremaining: 1m 17s\n",
      "130:\tlearn: 8.2902658\ttest: 8.8758436\tbest: 8.8755562 (0)\ttotal: 59.5s\tremaining: 1m 16s\n",
      "131:\tlearn: 8.2902632\ttest: 8.8758449\tbest: 8.8755562 (0)\ttotal: 59.9s\tremaining: 1m 16s\n",
      "132:\tlearn: 8.2902537\ttest: 8.8758449\tbest: 8.8755562 (0)\ttotal: 1m\tremaining: 1m 15s\n",
      "133:\tlearn: 8.2902444\ttest: 8.8758449\tbest: 8.8755562 (0)\ttotal: 1m\tremaining: 1m 15s\n",
      "134:\tlearn: 8.2902353\ttest: 8.8758449\tbest: 8.8755562 (0)\ttotal: 1m 1s\tremaining: 1m 15s\n",
      "135:\tlearn: 8.2902302\ttest: 8.8758449\tbest: 8.8755562 (0)\ttotal: 1m 1s\tremaining: 1m 14s\n",
      "136:\tlearn: 8.2902278\ttest: 8.8758462\tbest: 8.8755562 (0)\ttotal: 1m 2s\tremaining: 1m 14s\n",
      "137:\tlearn: 8.2902243\ttest: 8.8758501\tbest: 8.8755562 (0)\ttotal: 1m 2s\tremaining: 1m 13s\n",
      "138:\tlearn: 8.2902155\ttest: 8.8758501\tbest: 8.8755562 (0)\ttotal: 1m 3s\tremaining: 1m 13s\n",
      "139:\tlearn: 8.2902126\ttest: 8.8758504\tbest: 8.8755562 (0)\ttotal: 1m 3s\tremaining: 1m 12s\n",
      "140:\tlearn: 8.2902103\ttest: 8.8758517\tbest: 8.8755562 (0)\ttotal: 1m 4s\tremaining: 1m 12s\n",
      "141:\tlearn: 8.2902081\ttest: 8.8758529\tbest: 8.8755562 (0)\ttotal: 1m 4s\tremaining: 1m 11s\n",
      "142:\tlearn: 8.2901995\ttest: 8.8758529\tbest: 8.8755562 (0)\ttotal: 1m 4s\tremaining: 1m 11s\n",
      "143:\tlearn: 8.2901961\ttest: 8.8758567\tbest: 8.8755562 (0)\ttotal: 1m 5s\tremaining: 1m 10s\n",
      "144:\tlearn: 8.2901879\ttest: 8.8758567\tbest: 8.8755562 (0)\ttotal: 1m 5s\tremaining: 1m 10s\n",
      "145:\tlearn: 8.2901816\ttest: 8.8758567\tbest: 8.8755562 (0)\ttotal: 1m 6s\tremaining: 1m 9s\n",
      "146:\tlearn: 8.2901734\ttest: 8.8758567\tbest: 8.8755562 (0)\ttotal: 1m 6s\tremaining: 1m 9s\n",
      "147:\tlearn: 8.2901451\ttest: 8.8758492\tbest: 8.8755562 (0)\ttotal: 1m 7s\tremaining: 1m 9s\n",
      "148:\tlearn: 8.2901429\ttest: 8.8758504\tbest: 8.8755562 (0)\ttotal: 1m 7s\tremaining: 1m 8s\n",
      "149:\tlearn: 8.2901351\ttest: 8.8758504\tbest: 8.8755562 (0)\ttotal: 1m 8s\tremaining: 1m 8s\n",
      "150:\tlearn: 8.2901330\ttest: 8.8758517\tbest: 8.8755562 (0)\ttotal: 1m 8s\tremaining: 1m 7s\n",
      "151:\tlearn: 8.2901310\ttest: 8.8758528\tbest: 8.8755562 (0)\ttotal: 1m 8s\tremaining: 1m 7s\n",
      "152:\tlearn: 8.2901044\ttest: 8.8758383\tbest: 8.8755562 (0)\ttotal: 1m 9s\tremaining: 1m 6s\n",
      "153:\tlearn: 8.2900969\ttest: 8.8758383\tbest: 8.8755562 (0)\ttotal: 1m 9s\tremaining: 1m 6s\n",
      "154:\tlearn: 8.2900911\ttest: 8.8758383\tbest: 8.8755562 (0)\ttotal: 1m 10s\tremaining: 1m 5s\n",
      "155:\tlearn: 8.2900839\ttest: 8.8758383\tbest: 8.8755562 (0)\ttotal: 1m 10s\tremaining: 1m 5s\n",
      "156:\tlearn: 8.2900807\ttest: 8.8758421\tbest: 8.8755562 (0)\ttotal: 1m 11s\tremaining: 1m 4s\n",
      "157:\tlearn: 8.2900557\ttest: 8.8758282\tbest: 8.8755562 (0)\ttotal: 1m 11s\tremaining: 1m 4s\n",
      "158:\tlearn: 8.2900511\ttest: 8.8758282\tbest: 8.8755562 (0)\ttotal: 1m 12s\tremaining: 1m 4s\n",
      "159:\tlearn: 8.2900457\ttest: 8.8758282\tbest: 8.8755562 (0)\ttotal: 1m 12s\tremaining: 1m 3s\n",
      "160:\tlearn: 8.2900411\ttest: 8.8758282\tbest: 8.8755562 (0)\ttotal: 1m 13s\tremaining: 1m 3s\n",
      "161:\tlearn: 8.2900368\ttest: 8.8758282\tbest: 8.8755562 (0)\ttotal: 1m 13s\tremaining: 1m 2s\n",
      "162:\tlearn: 8.2900310\ttest: 8.8758318\tbest: 8.8755562 (0)\ttotal: 1m 13s\tremaining: 1m 2s\n",
      "163:\tlearn: 8.2900259\ttest: 8.8758318\tbest: 8.8755562 (0)\ttotal: 1m 14s\tremaining: 1m 1s\n",
      "164:\tlearn: 8.2900232\ttest: 8.8758354\tbest: 8.8755562 (0)\ttotal: 1m 14s\tremaining: 1m 1s\n",
      "165:\tlearn: 8.2900214\ttest: 8.8758365\tbest: 8.8755562 (0)\ttotal: 1m 15s\tremaining: 1m\n",
      "166:\tlearn: 8.2900149\ttest: 8.8758365\tbest: 8.8755562 (0)\ttotal: 1m 15s\tremaining: 1m\n",
      "167:\tlearn: 8.2899913\ttest: 8.8758232\tbest: 8.8755562 (0)\ttotal: 1m 16s\tremaining: 59.9s\n",
      "168:\tlearn: 8.2899895\ttest: 8.8758242\tbest: 8.8755562 (0)\ttotal: 1m 16s\tremaining: 59.4s\n",
      "169:\tlearn: 8.2899839\ttest: 8.8758280\tbest: 8.8755562 (0)\ttotal: 1m 17s\tremaining: 59s\n",
      "170:\tlearn: 8.2899785\ttest: 8.8758317\tbest: 8.8755562 (0)\ttotal: 1m 17s\tremaining: 58.5s\n",
      "171:\tlearn: 8.2899747\ttest: 8.8758317\tbest: 8.8755562 (0)\ttotal: 1m 18s\tremaining: 58.1s\n",
      "172:\tlearn: 8.2899701\ttest: 8.8758317\tbest: 8.8755562 (0)\ttotal: 1m 18s\tremaining: 57.6s\n",
      "173:\tlearn: 8.2899663\ttest: 8.8758317\tbest: 8.8755562 (0)\ttotal: 1m 18s\tremaining: 57.2s\n",
      "174:\tlearn: 8.2899438\ttest: 8.8758190\tbest: 8.8755562 (0)\ttotal: 1m 19s\tremaining: 56.7s\n",
      "175:\tlearn: 8.2899414\ttest: 8.8758226\tbest: 8.8755562 (0)\ttotal: 1m 19s\tremaining: 56.3s\n",
      "176:\tlearn: 8.2899356\ttest: 8.8758226\tbest: 8.8755562 (0)\ttotal: 1m 20s\tremaining: 55.8s\n",
      "177:\tlearn: 8.2899340\ttest: 8.8758236\tbest: 8.8755562 (0)\ttotal: 1m 20s\tremaining: 55.3s\n",
      "178:\tlearn: 8.2899304\ttest: 8.8758236\tbest: 8.8755562 (0)\ttotal: 1m 21s\tremaining: 54.9s\n",
      "179:\tlearn: 8.2899262\ttest: 8.8758236\tbest: 8.8755562 (0)\ttotal: 1m 21s\tremaining: 54.4s\n",
      "180:\tlearn: 8.2899246\ttest: 8.8758246\tbest: 8.8755562 (0)\ttotal: 1m 22s\tremaining: 53.9s\n",
      "181:\tlearn: 8.2899207\ttest: 8.8758246\tbest: 8.8755562 (0)\ttotal: 1m 22s\tremaining: 53.5s\n",
      "182:\tlearn: 8.2898993\ttest: 8.8758123\tbest: 8.8755562 (0)\ttotal: 1m 22s\tremaining: 53s\n",
      "183:\tlearn: 8.2898960\ttest: 8.8758123\tbest: 8.8755562 (0)\ttotal: 1m 23s\tremaining: 52.6s\n",
      "184:\tlearn: 8.2898928\ttest: 8.8758123\tbest: 8.8755562 (0)\ttotal: 1m 23s\tremaining: 52.1s\n",
      "185:\tlearn: 8.2898896\ttest: 8.8758153\tbest: 8.8755562 (0)\ttotal: 1m 24s\tremaining: 51.7s\n",
      "186:\tlearn: 8.2898693\ttest: 8.8758036\tbest: 8.8755562 (0)\ttotal: 1m 24s\tremaining: 51.2s\n",
      "187:\tlearn: 8.2898678\ttest: 8.8758045\tbest: 8.8755562 (0)\ttotal: 1m 25s\tremaining: 50.8s\n",
      "188:\tlearn: 8.2898653\ttest: 8.8758083\tbest: 8.8755562 (0)\ttotal: 1m 25s\tremaining: 50.3s\n",
      "189:\tlearn: 8.2898459\ttest: 8.8757971\tbest: 8.8755562 (0)\ttotal: 1m 26s\tremaining: 49.9s\n",
      "190:\tlearn: 8.2898266\ttest: 8.8757902\tbest: 8.8755562 (0)\ttotal: 1m 26s\tremaining: 49.4s\n",
      "191:\tlearn: 8.2898227\ttest: 8.8757896\tbest: 8.8755562 (0)\ttotal: 1m 27s\tremaining: 49s\n",
      "192:\tlearn: 8.2898196\ttest: 8.8757896\tbest: 8.8755562 (0)\ttotal: 1m 27s\tremaining: 48.5s\n",
      "193:\tlearn: 8.2898159\ttest: 8.8757890\tbest: 8.8755562 (0)\ttotal: 1m 27s\tremaining: 48.1s\n",
      "194:\tlearn: 8.2898135\ttest: 8.8757927\tbest: 8.8755562 (0)\ttotal: 1m 28s\tremaining: 47.6s\n",
      "195:\tlearn: 8.2898098\ttest: 8.8757927\tbest: 8.8755562 (0)\ttotal: 1m 28s\tremaining: 47.2s\n",
      "196:\tlearn: 8.2898084\ttest: 8.8757935\tbest: 8.8755562 (0)\ttotal: 1m 29s\tremaining: 46.7s\n",
      "197:\tlearn: 8.2898070\ttest: 8.8757944\tbest: 8.8755562 (0)\ttotal: 1m 29s\tremaining: 46.2s\n",
      "198:\tlearn: 8.2898048\ttest: 8.8757980\tbest: 8.8755562 (0)\ttotal: 1m 30s\tremaining: 45.7s\n",
      "199:\tlearn: 8.2898019\ttest: 8.8758011\tbest: 8.8755562 (0)\ttotal: 1m 30s\tremaining: 45.3s\n",
      "200:\tlearn: 8.2898005\ttest: 8.8758019\tbest: 8.8755562 (0)\ttotal: 1m 30s\tremaining: 44.8s\n",
      "201:\tlearn: 8.2897972\ttest: 8.8758012\tbest: 8.8755562 (0)\ttotal: 1m 31s\tremaining: 44.4s\n",
      "202:\tlearn: 8.2897795\ttest: 8.8757909\tbest: 8.8755562 (0)\ttotal: 1m 31s\tremaining: 43.9s\n",
      "203:\tlearn: 8.2897620\ttest: 8.8757845\tbest: 8.8755562 (0)\ttotal: 1m 32s\tremaining: 43.5s\n",
      "204:\tlearn: 8.2897593\ttest: 8.8757845\tbest: 8.8755562 (0)\ttotal: 1m 32s\tremaining: 43s\n",
      "205:\tlearn: 8.2897549\ttest: 8.8757845\tbest: 8.8755562 (0)\ttotal: 1m 33s\tremaining: 42.6s\n",
      "206:\tlearn: 8.2897510\ttest: 8.8757879\tbest: 8.8755562 (0)\ttotal: 1m 33s\tremaining: 42.2s\n",
      "207:\tlearn: 8.2897344\ttest: 8.8757816\tbest: 8.8755562 (0)\ttotal: 1m 34s\tremaining: 41.7s\n",
      "208:\tlearn: 8.2897331\ttest: 8.8757824\tbest: 8.8755562 (0)\ttotal: 1m 34s\tremaining: 41.2s\n",
      "209:\tlearn: 8.2897310\ttest: 8.8757860\tbest: 8.8755562 (0)\ttotal: 1m 35s\tremaining: 40.8s\n",
      "210:\tlearn: 8.2897298\ttest: 8.8757868\tbest: 8.8755562 (0)\ttotal: 1m 35s\tremaining: 40.3s\n",
      "211:\tlearn: 8.2897265\ttest: 8.8757868\tbest: 8.8755562 (0)\ttotal: 1m 36s\tremaining: 39.8s\n",
      "212:\tlearn: 8.2897233\ttest: 8.8757860\tbest: 8.8755562 (0)\ttotal: 1m 36s\tremaining: 39.4s\n",
      "213:\tlearn: 8.2897201\ttest: 8.8757852\tbest: 8.8755562 (0)\ttotal: 1m 36s\tremaining: 39s\n",
      "214:\tlearn: 8.2897182\ttest: 8.8757885\tbest: 8.8755562 (0)\ttotal: 1m 37s\tremaining: 38.5s\n",
      "215:\tlearn: 8.2897151\ttest: 8.8757885\tbest: 8.8755562 (0)\ttotal: 1m 37s\tremaining: 38.1s\n",
      "216:\tlearn: 8.2897127\ttest: 8.8757885\tbest: 8.8755562 (0)\ttotal: 1m 38s\tremaining: 37.6s\n",
      "217:\tlearn: 8.2897103\ttest: 8.8757885\tbest: 8.8755562 (0)\ttotal: 1m 38s\tremaining: 37.1s\n",
      "218:\tlearn: 8.2897073\ttest: 8.8757877\tbest: 8.8755562 (0)\ttotal: 1m 39s\tremaining: 36.7s\n",
      "219:\tlearn: 8.2897044\ttest: 8.8757869\tbest: 8.8755562 (0)\ttotal: 1m 39s\tremaining: 36.3s\n",
      "220:\tlearn: 8.2897015\ttest: 8.8757861\tbest: 8.8755562 (0)\ttotal: 1m 40s\tremaining: 35.8s\n",
      "221:\tlearn: 8.2896999\ttest: 8.8757893\tbest: 8.8755562 (0)\ttotal: 1m 40s\tremaining: 35.4s\n",
      "222:\tlearn: 8.2896841\ttest: 8.8757834\tbest: 8.8755562 (0)\ttotal: 1m 41s\tremaining: 34.9s\n",
      "223:\tlearn: 8.2896813\ttest: 8.8757826\tbest: 8.8755562 (0)\ttotal: 1m 41s\tremaining: 34.5s\n",
      "224:\tlearn: 8.2896791\ttest: 8.8757826\tbest: 8.8755562 (0)\ttotal: 1m 42s\tremaining: 34s\n",
      "225:\tlearn: 8.2896645\ttest: 8.8757740\tbest: 8.8755562 (0)\ttotal: 1m 42s\tremaining: 33.6s\n",
      "226:\tlearn: 8.2896623\ttest: 8.8757740\tbest: 8.8755562 (0)\ttotal: 1m 42s\tremaining: 33.1s\n",
      "227:\tlearn: 8.2896601\ttest: 8.8757740\tbest: 8.8755562 (0)\ttotal: 1m 43s\tremaining: 32.7s\n",
      "228:\tlearn: 8.2896590\ttest: 8.8757748\tbest: 8.8755562 (0)\ttotal: 1m 43s\tremaining: 32.2s\n",
      "229:\tlearn: 8.2896455\ttest: 8.8757787\tbest: 8.8755562 (0)\ttotal: 1m 44s\tremaining: 31.7s\n",
      "230:\tlearn: 8.2896326\ttest: 8.8757848\tbest: 8.8755562 (0)\ttotal: 1m 44s\tremaining: 31.3s\n",
      "231:\tlearn: 8.2896298\ttest: 8.8757848\tbest: 8.8755562 (0)\ttotal: 1m 45s\tremaining: 30.8s\n",
      "232:\tlearn: 8.2896272\ttest: 8.8757840\tbest: 8.8755562 (0)\ttotal: 1m 45s\tremaining: 30.4s\n",
      "233:\tlearn: 8.2896256\ttest: 8.8757871\tbest: 8.8755562 (0)\ttotal: 1m 46s\tremaining: 29.9s\n",
      "234:\tlearn: 8.2896246\ttest: 8.8757877\tbest: 8.8755562 (0)\ttotal: 1m 46s\tremaining: 29.5s\n",
      "235:\tlearn: 8.2896220\ttest: 8.8757869\tbest: 8.8755562 (0)\ttotal: 1m 46s\tremaining: 29s\n",
      "236:\tlearn: 8.2896204\ttest: 8.8757901\tbest: 8.8755562 (0)\ttotal: 1m 47s\tremaining: 28.6s\n",
      "237:\tlearn: 8.2896187\ttest: 8.8757901\tbest: 8.8755562 (0)\ttotal: 1m 47s\tremaining: 28.1s\n",
      "238:\tlearn: 8.2896172\ttest: 8.8757933\tbest: 8.8755562 (0)\ttotal: 1m 48s\tremaining: 27.6s\n",
      "239:\tlearn: 8.2896050\ttest: 8.8757974\tbest: 8.8755562 (0)\ttotal: 1m 48s\tremaining: 27.2s\n",
      "240:\tlearn: 8.2895931\ttest: 8.8758015\tbest: 8.8755562 (0)\ttotal: 1m 49s\tremaining: 26.7s\n",
      "241:\tlearn: 8.2895818\ttest: 8.8758056\tbest: 8.8755562 (0)\ttotal: 1m 49s\tremaining: 26.3s\n",
      "242:\tlearn: 8.2895709\ttest: 8.8758098\tbest: 8.8755562 (0)\ttotal: 1m 50s\tremaining: 25.8s\n",
      "243:\tlearn: 8.2895604\ttest: 8.8758140\tbest: 8.8755562 (0)\ttotal: 1m 50s\tremaining: 25.4s\n",
      "244:\tlearn: 8.2895580\ttest: 8.8758131\tbest: 8.8755562 (0)\ttotal: 1m 51s\tremaining: 24.9s\n",
      "245:\tlearn: 8.2895480\ttest: 8.8758173\tbest: 8.8755562 (0)\ttotal: 1m 51s\tremaining: 24.5s\n",
      "246:\tlearn: 8.2895384\ttest: 8.8758215\tbest: 8.8755562 (0)\ttotal: 1m 52s\tremaining: 24s\n",
      "247:\tlearn: 8.2895292\ttest: 8.8758257\tbest: 8.8755562 (0)\ttotal: 1m 52s\tremaining: 23.6s\n",
      "248:\tlearn: 8.2895282\ttest: 8.8758263\tbest: 8.8755562 (0)\ttotal: 1m 52s\tremaining: 23.1s\n",
      "249:\tlearn: 8.2895196\ttest: 8.8758304\tbest: 8.8755562 (0)\ttotal: 1m 53s\tremaining: 22.7s\n",
      "250:\tlearn: 8.2895111\ttest: 8.8758347\tbest: 8.8755562 (0)\ttotal: 1m 53s\tremaining: 22.2s\n",
      "251:\tlearn: 8.2895088\ttest: 8.8758338\tbest: 8.8755562 (0)\ttotal: 1m 54s\tremaining: 21.8s\n",
      "252:\tlearn: 8.2895078\ttest: 8.8758344\tbest: 8.8755562 (0)\ttotal: 1m 54s\tremaining: 21.3s\n",
      "253:\tlearn: 8.2894997\ttest: 8.8758408\tbest: 8.8755562 (0)\ttotal: 1m 55s\tremaining: 20.9s\n",
      "254:\tlearn: 8.2894919\ttest: 8.8758449\tbest: 8.8755562 (0)\ttotal: 1m 55s\tremaining: 20.4s\n",
      "255:\tlearn: 8.2894896\ttest: 8.8758441\tbest: 8.8755562 (0)\ttotal: 1m 56s\tremaining: 20s\n",
      "256:\tlearn: 8.2894821\ttest: 8.8758485\tbest: 8.8755562 (0)\ttotal: 1m 56s\tremaining: 19.5s\n",
      "257:\tlearn: 8.2894803\ttest: 8.8758485\tbest: 8.8755562 (0)\ttotal: 1m 57s\tremaining: 19.1s\n",
      "258:\tlearn: 8.2894780\ttest: 8.8758476\tbest: 8.8755562 (0)\ttotal: 1m 57s\tremaining: 18.6s\n",
      "259:\tlearn: 8.2894766\ttest: 8.8758507\tbest: 8.8755562 (0)\ttotal: 1m 57s\tremaining: 18.1s\n",
      "260:\tlearn: 8.2894752\ttest: 8.8758537\tbest: 8.8755562 (0)\ttotal: 1m 58s\tremaining: 17.7s\n",
      "261:\tlearn: 8.2894683\ttest: 8.8758601\tbest: 8.8755562 (0)\ttotal: 1m 58s\tremaining: 17.2s\n",
      "262:\tlearn: 8.2894671\ttest: 8.8758629\tbest: 8.8755562 (0)\ttotal: 1m 59s\tremaining: 16.8s\n",
      "263:\tlearn: 8.2894603\ttest: 8.8758673\tbest: 8.8755562 (0)\ttotal: 1m 59s\tremaining: 16.3s\n",
      "264:\tlearn: 8.2894585\ttest: 8.8758673\tbest: 8.8755562 (0)\ttotal: 2m\tremaining: 15.9s\n",
      "265:\tlearn: 8.2894578\ttest: 8.8758673\tbest: 8.8755562 (0)\ttotal: 2m\tremaining: 15.4s\n",
      "266:\tlearn: 8.2894511\ttest: 8.8758716\tbest: 8.8755562 (0)\ttotal: 2m 1s\tremaining: 15s\n",
      "267:\tlearn: 8.2894447\ttest: 8.8758760\tbest: 8.8755562 (0)\ttotal: 2m 1s\tremaining: 14.5s\n",
      "268:\tlearn: 8.2894435\ttest: 8.8758788\tbest: 8.8755562 (0)\ttotal: 2m 2s\tremaining: 14.1s\n",
      "269:\tlearn: 8.2894412\ttest: 8.8758788\tbest: 8.8755562 (0)\ttotal: 2m 2s\tremaining: 13.6s\n",
      "270:\tlearn: 8.2894405\ttest: 8.8758788\tbest: 8.8755562 (0)\ttotal: 2m 2s\tremaining: 13.2s\n",
      "271:\tlearn: 8.2894343\ttest: 8.8758831\tbest: 8.8755562 (0)\ttotal: 2m 3s\tremaining: 12.7s\n",
      "272:\tlearn: 8.2894323\ttest: 8.8758823\tbest: 8.8755562 (0)\ttotal: 2m 3s\tremaining: 12.3s\n",
      "273:\tlearn: 8.2894263\ttest: 8.8758866\tbest: 8.8755562 (0)\ttotal: 2m 4s\tremaining: 11.8s\n",
      "274:\tlearn: 8.2894257\ttest: 8.8758866\tbest: 8.8755562 (0)\ttotal: 2m 4s\tremaining: 11.3s\n",
      "275:\tlearn: 8.2894200\ttest: 8.8758910\tbest: 8.8755562 (0)\ttotal: 2m 5s\tremaining: 10.9s\n",
      "276:\tlearn: 8.2894193\ttest: 8.8758910\tbest: 8.8755562 (0)\ttotal: 2m 5s\tremaining: 10.4s\n",
      "277:\tlearn: 8.2894184\ttest: 8.8758910\tbest: 8.8755562 (0)\ttotal: 2m 6s\tremaining: 9.98s\n",
      "278:\tlearn: 8.2894130\ttest: 8.8758975\tbest: 8.8755562 (0)\ttotal: 2m 6s\tremaining: 9.53s\n",
      "279:\tlearn: 8.2894108\ttest: 8.8758975\tbest: 8.8755562 (0)\ttotal: 2m 7s\tremaining: 9.07s\n",
      "280:\tlearn: 8.2894055\ttest: 8.8759018\tbest: 8.8755562 (0)\ttotal: 2m 7s\tremaining: 8.62s\n",
      "281:\tlearn: 8.2894004\ttest: 8.8759062\tbest: 8.8755562 (0)\ttotal: 2m 7s\tremaining: 8.17s\n",
      "282:\tlearn: 8.2893956\ttest: 8.8759127\tbest: 8.8755562 (0)\ttotal: 2m 8s\tremaining: 7.72s\n",
      "283:\tlearn: 8.2893949\ttest: 8.8759127\tbest: 8.8755562 (0)\ttotal: 2m 8s\tremaining: 7.26s\n",
      "284:\tlearn: 8.2893930\ttest: 8.8759119\tbest: 8.8755562 (0)\ttotal: 2m 9s\tremaining: 6.81s\n",
      "285:\tlearn: 8.2893884\ttest: 8.8759160\tbest: 8.8755562 (0)\ttotal: 2m 9s\tremaining: 6.35s\n",
      "286:\tlearn: 8.2893860\ttest: 8.8759160\tbest: 8.8755562 (0)\ttotal: 2m 10s\tremaining: 5.9s\n",
      "287:\tlearn: 8.2893854\ttest: 8.8759160\tbest: 8.8755562 (0)\ttotal: 2m 10s\tremaining: 5.45s\n",
      "288:\tlearn: 8.2893835\ttest: 8.8759152\tbest: 8.8755562 (0)\ttotal: 2m 11s\tremaining: 4.99s\n",
      "289:\tlearn: 8.2893789\ttest: 8.8759195\tbest: 8.8755562 (0)\ttotal: 2m 11s\tremaining: 4.54s\n",
      "290:\tlearn: 8.2893783\ttest: 8.8759195\tbest: 8.8755562 (0)\ttotal: 2m 12s\tremaining: 4.08s\n",
      "291:\tlearn: 8.2893762\ttest: 8.8759195\tbest: 8.8755562 (0)\ttotal: 2m 12s\tremaining: 3.63s\n",
      "292:\tlearn: 8.2893741\ttest: 8.8759195\tbest: 8.8755562 (0)\ttotal: 2m 13s\tremaining: 3.18s\n",
      "293:\tlearn: 8.2893734\ttest: 8.8759195\tbest: 8.8755562 (0)\ttotal: 2m 13s\tremaining: 2.72s\n",
      "294:\tlearn: 8.2893716\ttest: 8.8759195\tbest: 8.8755562 (0)\ttotal: 2m 13s\tremaining: 2.27s\n",
      "295:\tlearn: 8.2893697\ttest: 8.8759187\tbest: 8.8755562 (0)\ttotal: 2m 14s\tremaining: 1.82s\n",
      "296:\tlearn: 8.2893683\ttest: 8.8759187\tbest: 8.8755562 (0)\ttotal: 2m 14s\tremaining: 1.36s\n",
      "297:\tlearn: 8.2893665\ttest: 8.8759179\tbest: 8.8755562 (0)\ttotal: 2m 15s\tremaining: 908ms\n",
      "298:\tlearn: 8.2893647\ttest: 8.8759171\tbest: 8.8755562 (0)\ttotal: 2m 15s\tremaining: 454ms\n",
      "299:\tlearn: 8.2893605\ttest: 8.8759213\tbest: 8.8755562 (0)\ttotal: 2m 16s\tremaining: 0us\n",
      "\n",
      "bestTest = 8.875556151\n",
      "bestIteration = 0\n",
      "\n",
      "Shrink model to first 1 iterations.\n",
      "{'NDCG:top=10;type=Base': [0.9926144434225836]}\n"
     ]
    }
   ],
   "source": [
    "params = {\n",
    "    'iterations': 300,\n",
    "    'learning_rate': 0.01,\n",
    "    'depth': 3,\n",
    "    'loss_function': 'QuerySoftMax',\n",
    "    'custom_metric': 'NDCG:top=100',\n",
    "}\n",
    "\n",
    "# Определение целевой переменной и признаков\n",
    "target_column = 'sentiment'\n",
    "feature_columns = ['duration', 'emotion', 'vtop', 'comment', 'v_month_views', 'v_cr_click_like_30_days', \n",
    "                   'chanell_vec_vectorized_query', 'category_vec_vectorized_query', \n",
    "                   'video_title_vec_vectorized_query','vectorized_persons_vectorized_query',\n",
    "                   'vectorized_organizations_vectorized_query','vectorized_locations_vectorized_query']\n",
    "\n",
    "\n",
    "\n",
    "\n",
    "train_size = int(0.8 * len(df))\n",
    "train_data = df[:train_size]\n",
    "test_data = df[train_size:]\n",
    "\n",
    "\n",
    "train_pool = Pool(data=train_data[feature_columns], label=train_data[target_column], group_id=train_data['video_id'])\n",
    "test_pool = Pool(data=test_data[feature_columns], label=test_data[target_column], group_id=test_data['video_id'])\n",
    "\n",
    "model = CatBoostRanker(**params)\n",
    "model.fit(train_pool, eval_set=test_pool)\n",
    "\n",
    "eval_metrics = model.eval_metrics(test_pool, metrics=['NDCG:top=10'])\n",
    "\n",
    "\n",
    "print(eval_metrics)\n",
    "\n"
   ]
  },
  {
   "cell_type": "code",
   "execution_count": 87,
   "id": "63930775-ffe1-4cb8-82d5-097677cffc15",
   "metadata": {
    "execution": {
     "iopub.execute_input": "2023-11-25T10:16:13.622017Z",
     "iopub.status.busy": "2023-11-25T10:16:13.621224Z",
     "iopub.status.idle": "2023-11-25T10:16:13.638302Z",
     "shell.execute_reply": "2023-11-25T10:16:13.637540Z",
     "shell.execute_reply.started": "2023-11-25T10:16:13.621980Z"
    },
    "tags": []
   },
   "outputs": [],
   "source": [
    "drg = pd.read_csv('/home/jupyter/datasphere/project/submission_queries.csv')"
   ]
  },
  {
   "cell_type": "code",
   "execution_count": 89,
   "id": "e8190962-09b6-43cf-8ab9-7907be770aed",
   "metadata": {
    "execution": {
     "iopub.execute_input": "2023-11-25T10:16:13.660432Z",
     "iopub.status.busy": "2023-11-25T10:16:13.659826Z",
     "iopub.status.idle": "2023-11-25T10:16:14.187104Z",
     "shell.execute_reply": "2023-11-25T10:16:14.186160Z",
     "shell.execute_reply.started": "2023-11-25T10:16:13.660397Z"
    },
    "tags": []
   },
   "outputs": [],
   "source": [
    "dtwtd=pd.read_parquet('data_names_vec.parquet')"
   ]
  },
  {
   "cell_type": "code",
   "execution_count": 108,
   "id": "24b75432-ca38-45bd-8092-6d3e900a0b48",
   "metadata": {
    "execution": {
     "iopub.execute_input": "2023-11-25T10:19:28.568210Z",
     "iopub.status.busy": "2023-11-25T10:19:28.567513Z",
     "iopub.status.idle": "2023-11-25T10:19:28.591200Z",
     "shell.execute_reply": "2023-11-25T10:19:28.590099Z",
     "shell.execute_reply.started": "2023-11-25T10:19:28.568165Z"
    },
    "tags": []
   },
   "outputs": [
    {
     "ename": "KeyError",
     "evalue": "\"['sentiment'] not found in axis\"",
     "output_type": "error",
     "traceback": [
      "\u001b[0;31m---------------------------------------------------------------------------\u001b[0m",
      "\u001b[0;31mKeyError\u001b[0m                                  Traceback (most recent call last)",
      "\u001b[0;32m<ipython-input-108-4c1c17f8c97b>\u001b[0m in \u001b[0;36m<module>\u001b[0;34m\u001b[0m\n\u001b[0;32m----> 1\u001b[0;31m \u001b[0mdtwtd\u001b[0m \u001b[0;34m=\u001b[0m \u001b[0mdtwtd\u001b[0m\u001b[0;34m.\u001b[0m\u001b[0mdrop\u001b[0m\u001b[0;34m(\u001b[0m\u001b[0mcolumns\u001b[0m\u001b[0;34m=\u001b[0m\u001b[0;34m[\u001b[0m\u001b[0;34m'sentiment'\u001b[0m\u001b[0;34m]\u001b[0m\u001b[0;34m)\u001b[0m\u001b[0;34m\u001b[0m\u001b[0;34m\u001b[0m\u001b[0m\n\u001b[0m\u001b[1;32m      2\u001b[0m \u001b[0;31m#\u001b[0m\u001b[0;34m\u001b[0m\u001b[0;34m\u001b[0m\u001b[0m\n",
      "\u001b[0;32m~/.local/lib/python3.10/site-packages/pandas/core/frame.py\u001b[0m in \u001b[0;36mdrop\u001b[0;34m(self, labels, axis, index, columns, level, inplace, errors)\u001b[0m\n\u001b[1;32m   5342\u001b[0m                 \u001b[0mweight\u001b[0m  \u001b[0;36m1.0\u001b[0m     \u001b[0;36m0.8\u001b[0m\u001b[0;34m\u001b[0m\u001b[0;34m\u001b[0m\u001b[0m\n\u001b[1;32m   5343\u001b[0m         \"\"\"\n\u001b[0;32m-> 5344\u001b[0;31m         return super().drop(\n\u001b[0m\u001b[1;32m   5345\u001b[0m             \u001b[0mlabels\u001b[0m\u001b[0;34m=\u001b[0m\u001b[0mlabels\u001b[0m\u001b[0;34m,\u001b[0m\u001b[0;34m\u001b[0m\u001b[0;34m\u001b[0m\u001b[0m\n\u001b[1;32m   5346\u001b[0m             \u001b[0maxis\u001b[0m\u001b[0;34m=\u001b[0m\u001b[0maxis\u001b[0m\u001b[0;34m,\u001b[0m\u001b[0;34m\u001b[0m\u001b[0;34m\u001b[0m\u001b[0m\n",
      "\u001b[0;32m~/.local/lib/python3.10/site-packages/pandas/core/generic.py\u001b[0m in \u001b[0;36mdrop\u001b[0;34m(self, labels, axis, index, columns, level, inplace, errors)\u001b[0m\n\u001b[1;32m   4709\u001b[0m         \u001b[0;32mfor\u001b[0m \u001b[0maxis\u001b[0m\u001b[0;34m,\u001b[0m \u001b[0mlabels\u001b[0m \u001b[0;32min\u001b[0m \u001b[0maxes\u001b[0m\u001b[0;34m.\u001b[0m\u001b[0mitems\u001b[0m\u001b[0;34m(\u001b[0m\u001b[0;34m)\u001b[0m\u001b[0;34m:\u001b[0m\u001b[0;34m\u001b[0m\u001b[0;34m\u001b[0m\u001b[0m\n\u001b[1;32m   4710\u001b[0m             \u001b[0;32mif\u001b[0m \u001b[0mlabels\u001b[0m \u001b[0;32mis\u001b[0m \u001b[0;32mnot\u001b[0m \u001b[0;32mNone\u001b[0m\u001b[0;34m:\u001b[0m\u001b[0;34m\u001b[0m\u001b[0;34m\u001b[0m\u001b[0m\n\u001b[0;32m-> 4711\u001b[0;31m                 \u001b[0mobj\u001b[0m \u001b[0;34m=\u001b[0m \u001b[0mobj\u001b[0m\u001b[0;34m.\u001b[0m\u001b[0m_drop_axis\u001b[0m\u001b[0;34m(\u001b[0m\u001b[0mlabels\u001b[0m\u001b[0;34m,\u001b[0m \u001b[0maxis\u001b[0m\u001b[0;34m,\u001b[0m \u001b[0mlevel\u001b[0m\u001b[0;34m=\u001b[0m\u001b[0mlevel\u001b[0m\u001b[0;34m,\u001b[0m \u001b[0merrors\u001b[0m\u001b[0;34m=\u001b[0m\u001b[0merrors\u001b[0m\u001b[0;34m)\u001b[0m\u001b[0;34m\u001b[0m\u001b[0;34m\u001b[0m\u001b[0m\n\u001b[0m\u001b[1;32m   4712\u001b[0m \u001b[0;34m\u001b[0m\u001b[0m\n\u001b[1;32m   4713\u001b[0m         \u001b[0;32mif\u001b[0m \u001b[0minplace\u001b[0m\u001b[0;34m:\u001b[0m\u001b[0;34m\u001b[0m\u001b[0;34m\u001b[0m\u001b[0m\n",
      "\u001b[0;32m~/.local/lib/python3.10/site-packages/pandas/core/generic.py\u001b[0m in \u001b[0;36m_drop_axis\u001b[0;34m(self, labels, axis, level, errors, only_slice)\u001b[0m\n\u001b[1;32m   4751\u001b[0m                 \u001b[0mnew_axis\u001b[0m \u001b[0;34m=\u001b[0m \u001b[0maxis\u001b[0m\u001b[0;34m.\u001b[0m\u001b[0mdrop\u001b[0m\u001b[0;34m(\u001b[0m\u001b[0mlabels\u001b[0m\u001b[0;34m,\u001b[0m \u001b[0mlevel\u001b[0m\u001b[0;34m=\u001b[0m\u001b[0mlevel\u001b[0m\u001b[0;34m,\u001b[0m \u001b[0merrors\u001b[0m\u001b[0;34m=\u001b[0m\u001b[0merrors\u001b[0m\u001b[0;34m)\u001b[0m\u001b[0;34m\u001b[0m\u001b[0;34m\u001b[0m\u001b[0m\n\u001b[1;32m   4752\u001b[0m             \u001b[0;32melse\u001b[0m\u001b[0;34m:\u001b[0m\u001b[0;34m\u001b[0m\u001b[0;34m\u001b[0m\u001b[0m\n\u001b[0;32m-> 4753\u001b[0;31m                 \u001b[0mnew_axis\u001b[0m \u001b[0;34m=\u001b[0m \u001b[0maxis\u001b[0m\u001b[0;34m.\u001b[0m\u001b[0mdrop\u001b[0m\u001b[0;34m(\u001b[0m\u001b[0mlabels\u001b[0m\u001b[0;34m,\u001b[0m \u001b[0merrors\u001b[0m\u001b[0;34m=\u001b[0m\u001b[0merrors\u001b[0m\u001b[0;34m)\u001b[0m\u001b[0;34m\u001b[0m\u001b[0;34m\u001b[0m\u001b[0m\n\u001b[0m\u001b[1;32m   4754\u001b[0m             \u001b[0mindexer\u001b[0m \u001b[0;34m=\u001b[0m \u001b[0maxis\u001b[0m\u001b[0;34m.\u001b[0m\u001b[0mget_indexer\u001b[0m\u001b[0;34m(\u001b[0m\u001b[0mnew_axis\u001b[0m\u001b[0;34m)\u001b[0m\u001b[0;34m\u001b[0m\u001b[0;34m\u001b[0m\u001b[0m\n\u001b[1;32m   4755\u001b[0m \u001b[0;34m\u001b[0m\u001b[0m\n",
      "\u001b[0;32m~/.local/lib/python3.10/site-packages/pandas/core/indexes/base.py\u001b[0m in \u001b[0;36mdrop\u001b[0;34m(self, labels, errors)\u001b[0m\n\u001b[1;32m   6990\u001b[0m         \u001b[0;32mif\u001b[0m \u001b[0mmask\u001b[0m\u001b[0;34m.\u001b[0m\u001b[0many\u001b[0m\u001b[0;34m(\u001b[0m\u001b[0;34m)\u001b[0m\u001b[0;34m:\u001b[0m\u001b[0;34m\u001b[0m\u001b[0;34m\u001b[0m\u001b[0m\n\u001b[1;32m   6991\u001b[0m             \u001b[0;32mif\u001b[0m \u001b[0merrors\u001b[0m \u001b[0;34m!=\u001b[0m \u001b[0;34m\"ignore\"\u001b[0m\u001b[0;34m:\u001b[0m\u001b[0;34m\u001b[0m\u001b[0;34m\u001b[0m\u001b[0m\n\u001b[0;32m-> 6992\u001b[0;31m                 \u001b[0;32mraise\u001b[0m \u001b[0mKeyError\u001b[0m\u001b[0;34m(\u001b[0m\u001b[0;34mf\"{labels[mask].tolist()} not found in axis\"\u001b[0m\u001b[0;34m)\u001b[0m\u001b[0;34m\u001b[0m\u001b[0;34m\u001b[0m\u001b[0m\n\u001b[0m\u001b[1;32m   6993\u001b[0m             \u001b[0mindexer\u001b[0m \u001b[0;34m=\u001b[0m \u001b[0mindexer\u001b[0m\u001b[0;34m[\u001b[0m\u001b[0;34m~\u001b[0m\u001b[0mmask\u001b[0m\u001b[0;34m]\u001b[0m\u001b[0;34m\u001b[0m\u001b[0;34m\u001b[0m\u001b[0m\n\u001b[1;32m   6994\u001b[0m         \u001b[0;32mreturn\u001b[0m \u001b[0mself\u001b[0m\u001b[0;34m.\u001b[0m\u001b[0mdelete\u001b[0m\u001b[0;34m(\u001b[0m\u001b[0mindexer\u001b[0m\u001b[0;34m)\u001b[0m\u001b[0;34m\u001b[0m\u001b[0;34m\u001b[0m\u001b[0m\n",
      "\u001b[0;31mKeyError\u001b[0m: \"['sentiment'] not found in axis\""
     ]
    }
   ],
   "source": [
    "dtwtd = dtwtd.drop(columns=['sentiment'])"
   ]
  },
  {
   "cell_type": "code",
   "execution_count": 105,
   "id": "e0ec320e-a5de-4376-809b-0ba4e9d78494",
   "metadata": {
    "execution": {
     "iopub.execute_input": "2023-11-25T10:19:01.075721Z",
     "iopub.status.busy": "2023-11-25T10:19:01.074791Z",
     "iopub.status.idle": "2023-11-25T10:19:01.114637Z",
     "shell.execute_reply": "2023-11-25T10:19:01.113781Z",
     "shell.execute_reply.started": "2023-11-25T10:19:01.075681Z"
    },
    "tags": []
   },
   "outputs": [],
   "source": [
    "first_query = drg.loc[93, 'query']\n",
    "\n",
    "\n",
    "dtwtd['query'] = first_query\n"
   ]
  },
  {
   "cell_type": "code",
   "execution_count": 106,
   "id": "9d6fe9f5-0001-45df-a021-74a62f779540",
   "metadata": {
    "execution": {
     "iopub.execute_input": "2023-11-25T10:19:01.258782Z",
     "iopub.status.busy": "2023-11-25T10:19:01.257956Z",
     "iopub.status.idle": "2023-11-25T10:19:01.453662Z",
     "shell.execute_reply": "2023-11-25T10:19:01.452119Z",
     "shell.execute_reply.started": "2023-11-25T10:19:01.258731Z"
    },
    "tags": []
   },
   "outputs": [
    {
     "ename": "KeyError",
     "evalue": "'chanell_vec'",
     "output_type": "error",
     "traceback": [
      "\u001b[0;31m---------------------------------------------------------------------------\u001b[0m",
      "\u001b[0;31mKeyError\u001b[0m                                  Traceback (most recent call last)",
      "\u001b[0;32m~/.local/lib/python3.10/site-packages/pandas/core/indexes/base.py\u001b[0m in \u001b[0;36mget_loc\u001b[0;34m(self, key)\u001b[0m\n\u001b[1;32m   3789\u001b[0m         \u001b[0;32mtry\u001b[0m\u001b[0;34m:\u001b[0m\u001b[0;34m\u001b[0m\u001b[0;34m\u001b[0m\u001b[0m\n\u001b[0;32m-> 3790\u001b[0;31m             \u001b[0;32mreturn\u001b[0m \u001b[0mself\u001b[0m\u001b[0;34m.\u001b[0m\u001b[0m_engine\u001b[0m\u001b[0;34m.\u001b[0m\u001b[0mget_loc\u001b[0m\u001b[0;34m(\u001b[0m\u001b[0mcasted_key\u001b[0m\u001b[0;34m)\u001b[0m\u001b[0;34m\u001b[0m\u001b[0;34m\u001b[0m\u001b[0m\n\u001b[0m\u001b[1;32m   3791\u001b[0m         \u001b[0;32mexcept\u001b[0m \u001b[0mKeyError\u001b[0m \u001b[0;32mas\u001b[0m \u001b[0merr\u001b[0m\u001b[0;34m:\u001b[0m\u001b[0;34m\u001b[0m\u001b[0;34m\u001b[0m\u001b[0m\n",
      "\u001b[0;32mindex.pyx\u001b[0m in \u001b[0;36mpandas._libs.index.IndexEngine.get_loc\u001b[0;34m()\u001b[0m\n",
      "\u001b[0;32mindex.pyx\u001b[0m in \u001b[0;36mpandas._libs.index.IndexEngine.get_loc\u001b[0;34m()\u001b[0m\n",
      "\u001b[0;32mpandas/_libs/hashtable_class_helper.pxi\u001b[0m in \u001b[0;36mpandas._libs.hashtable.PyObjectHashTable.get_item\u001b[0;34m()\u001b[0m\n",
      "\u001b[0;32mpandas/_libs/hashtable_class_helper.pxi\u001b[0m in \u001b[0;36mpandas._libs.hashtable.PyObjectHashTable.get_item\u001b[0;34m()\u001b[0m\n",
      "\u001b[0;31mKeyError\u001b[0m: 'chanell_vec'",
      "\nThe above exception was the direct cause of the following exception:\n",
      "\u001b[0;31mKeyError\u001b[0m                                  Traceback (most recent call last)",
      "\u001b[0;32m<ipython-input-106-5719533b647f>\u001b[0m in \u001b[0;36m<module>\u001b[0;34m\u001b[0m\n\u001b[1;32m     15\u001b[0m \u001b[0;32mfor\u001b[0m \u001b[0mcol\u001b[0m \u001b[0;32min\u001b[0m \u001b[0mcolumns_to_replace\u001b[0m\u001b[0;34m:\u001b[0m\u001b[0;34m\u001b[0m\u001b[0;34m\u001b[0m\u001b[0m\n\u001b[1;32m     16\u001b[0m     \u001b[0mcol_vectorized_query\u001b[0m \u001b[0;34m=\u001b[0m \u001b[0mcol\u001b[0m \u001b[0;34m+\u001b[0m \u001b[0;34m\"_vectorized_query\"\u001b[0m\u001b[0;34m\u001b[0m\u001b[0;34m\u001b[0m\u001b[0m\n\u001b[0;32m---> 17\u001b[0;31m     \u001b[0mdtwtd\u001b[0m\u001b[0;34m[\u001b[0m\u001b[0mcol_vectorized_query\u001b[0m\u001b[0;34m]\u001b[0m \u001b[0;34m=\u001b[0m \u001b[0mdtwtd\u001b[0m\u001b[0;34m.\u001b[0m\u001b[0mapply\u001b[0m\u001b[0;34m(\u001b[0m\u001b[0;32mlambda\u001b[0m \u001b[0mrow\u001b[0m\u001b[0;34m:\u001b[0m \u001b[0mcosine_similarity\u001b[0m\u001b[0;34m(\u001b[0m\u001b[0mrow\u001b[0m\u001b[0;34m[\u001b[0m\u001b[0mcol\u001b[0m\u001b[0;34m]\u001b[0m\u001b[0;34m,\u001b[0m \u001b[0mrow\u001b[0m\u001b[0;34m[\u001b[0m\u001b[0;34m'vectorized_query'\u001b[0m\u001b[0;34m]\u001b[0m\u001b[0;34m)\u001b[0m\u001b[0;34m,\u001b[0m \u001b[0maxis\u001b[0m\u001b[0;34m=\u001b[0m\u001b[0;36m1\u001b[0m\u001b[0;34m)\u001b[0m\u001b[0;34m\u001b[0m\u001b[0;34m\u001b[0m\u001b[0m\n\u001b[0m\u001b[1;32m     18\u001b[0m \u001b[0;34m\u001b[0m\u001b[0m\n\u001b[1;32m     19\u001b[0m \u001b[0mdtwtd\u001b[0m \u001b[0;34m=\u001b[0m \u001b[0mdtwtd\u001b[0m\u001b[0;34m.\u001b[0m\u001b[0mdrop\u001b[0m\u001b[0;34m(\u001b[0m\u001b[0mcolumns\u001b[0m\u001b[0;34m=\u001b[0m\u001b[0mcolumns_to_replace\u001b[0m\u001b[0;34m)\u001b[0m\u001b[0;34m\u001b[0m\u001b[0;34m\u001b[0m\u001b[0m\n",
      "\u001b[0;32m~/.local/lib/python3.10/site-packages/pandas/core/frame.py\u001b[0m in \u001b[0;36mapply\u001b[0;34m(self, func, axis, raw, result_type, args, by_row, **kwargs)\u001b[0m\n\u001b[1;32m  10032\u001b[0m             \u001b[0mkwargs\u001b[0m\u001b[0;34m=\u001b[0m\u001b[0mkwargs\u001b[0m\u001b[0;34m,\u001b[0m\u001b[0;34m\u001b[0m\u001b[0;34m\u001b[0m\u001b[0m\n\u001b[1;32m  10033\u001b[0m         )\n\u001b[0;32m> 10034\u001b[0;31m         \u001b[0;32mreturn\u001b[0m \u001b[0mop\u001b[0m\u001b[0;34m.\u001b[0m\u001b[0mapply\u001b[0m\u001b[0;34m(\u001b[0m\u001b[0;34m)\u001b[0m\u001b[0;34m.\u001b[0m\u001b[0m__finalize__\u001b[0m\u001b[0;34m(\u001b[0m\u001b[0mself\u001b[0m\u001b[0;34m,\u001b[0m \u001b[0mmethod\u001b[0m\u001b[0;34m=\u001b[0m\u001b[0;34m\"apply\"\u001b[0m\u001b[0;34m)\u001b[0m\u001b[0;34m\u001b[0m\u001b[0;34m\u001b[0m\u001b[0m\n\u001b[0m\u001b[1;32m  10035\u001b[0m \u001b[0;34m\u001b[0m\u001b[0m\n\u001b[1;32m  10036\u001b[0m     def map(\n",
      "\u001b[0;32m~/.local/lib/python3.10/site-packages/pandas/core/apply.py\u001b[0m in \u001b[0;36mapply\u001b[0;34m(self)\u001b[0m\n\u001b[1;32m    835\u001b[0m             \u001b[0;32mreturn\u001b[0m \u001b[0mself\u001b[0m\u001b[0;34m.\u001b[0m\u001b[0mapply_raw\u001b[0m\u001b[0;34m(\u001b[0m\u001b[0;34m)\u001b[0m\u001b[0;34m\u001b[0m\u001b[0;34m\u001b[0m\u001b[0m\n\u001b[1;32m    836\u001b[0m \u001b[0;34m\u001b[0m\u001b[0m\n\u001b[0;32m--> 837\u001b[0;31m         \u001b[0;32mreturn\u001b[0m \u001b[0mself\u001b[0m\u001b[0;34m.\u001b[0m\u001b[0mapply_standard\u001b[0m\u001b[0;34m(\u001b[0m\u001b[0;34m)\u001b[0m\u001b[0;34m\u001b[0m\u001b[0;34m\u001b[0m\u001b[0m\n\u001b[0m\u001b[1;32m    838\u001b[0m \u001b[0;34m\u001b[0m\u001b[0m\n\u001b[1;32m    839\u001b[0m     \u001b[0;32mdef\u001b[0m \u001b[0magg\u001b[0m\u001b[0;34m(\u001b[0m\u001b[0mself\u001b[0m\u001b[0;34m)\u001b[0m\u001b[0;34m:\u001b[0m\u001b[0;34m\u001b[0m\u001b[0;34m\u001b[0m\u001b[0m\n",
      "\u001b[0;32m~/.local/lib/python3.10/site-packages/pandas/core/apply.py\u001b[0m in \u001b[0;36mapply_standard\u001b[0;34m(self)\u001b[0m\n\u001b[1;32m    961\u001b[0m \u001b[0;34m\u001b[0m\u001b[0m\n\u001b[1;32m    962\u001b[0m     \u001b[0;32mdef\u001b[0m \u001b[0mapply_standard\u001b[0m\u001b[0;34m(\u001b[0m\u001b[0mself\u001b[0m\u001b[0;34m)\u001b[0m\u001b[0;34m:\u001b[0m\u001b[0;34m\u001b[0m\u001b[0;34m\u001b[0m\u001b[0m\n\u001b[0;32m--> 963\u001b[0;31m         \u001b[0mresults\u001b[0m\u001b[0;34m,\u001b[0m \u001b[0mres_index\u001b[0m \u001b[0;34m=\u001b[0m \u001b[0mself\u001b[0m\u001b[0;34m.\u001b[0m\u001b[0mapply_series_generator\u001b[0m\u001b[0;34m(\u001b[0m\u001b[0;34m)\u001b[0m\u001b[0;34m\u001b[0m\u001b[0;34m\u001b[0m\u001b[0m\n\u001b[0m\u001b[1;32m    964\u001b[0m \u001b[0;34m\u001b[0m\u001b[0m\n\u001b[1;32m    965\u001b[0m         \u001b[0;31m# wrap results\u001b[0m\u001b[0;34m\u001b[0m\u001b[0;34m\u001b[0m\u001b[0m\n",
      "\u001b[0;32m~/.local/lib/python3.10/site-packages/pandas/core/apply.py\u001b[0m in \u001b[0;36mapply_series_generator\u001b[0;34m(self)\u001b[0m\n\u001b[1;32m    977\u001b[0m             \u001b[0;32mfor\u001b[0m \u001b[0mi\u001b[0m\u001b[0;34m,\u001b[0m \u001b[0mv\u001b[0m \u001b[0;32min\u001b[0m \u001b[0menumerate\u001b[0m\u001b[0;34m(\u001b[0m\u001b[0mseries_gen\u001b[0m\u001b[0;34m)\u001b[0m\u001b[0;34m:\u001b[0m\u001b[0;34m\u001b[0m\u001b[0;34m\u001b[0m\u001b[0m\n\u001b[1;32m    978\u001b[0m                 \u001b[0;31m# ignore SettingWithCopy here in case the user mutates\u001b[0m\u001b[0;34m\u001b[0m\u001b[0;34m\u001b[0m\u001b[0m\n\u001b[0;32m--> 979\u001b[0;31m                 \u001b[0mresults\u001b[0m\u001b[0;34m[\u001b[0m\u001b[0mi\u001b[0m\u001b[0;34m]\u001b[0m \u001b[0;34m=\u001b[0m \u001b[0mself\u001b[0m\u001b[0;34m.\u001b[0m\u001b[0mfunc\u001b[0m\u001b[0;34m(\u001b[0m\u001b[0mv\u001b[0m\u001b[0;34m,\u001b[0m \u001b[0;34m*\u001b[0m\u001b[0mself\u001b[0m\u001b[0;34m.\u001b[0m\u001b[0margs\u001b[0m\u001b[0;34m,\u001b[0m \u001b[0;34m**\u001b[0m\u001b[0mself\u001b[0m\u001b[0;34m.\u001b[0m\u001b[0mkwargs\u001b[0m\u001b[0;34m)\u001b[0m\u001b[0;34m\u001b[0m\u001b[0;34m\u001b[0m\u001b[0m\n\u001b[0m\u001b[1;32m    980\u001b[0m                 \u001b[0;32mif\u001b[0m \u001b[0misinstance\u001b[0m\u001b[0;34m(\u001b[0m\u001b[0mresults\u001b[0m\u001b[0;34m[\u001b[0m\u001b[0mi\u001b[0m\u001b[0;34m]\u001b[0m\u001b[0;34m,\u001b[0m \u001b[0mABCSeries\u001b[0m\u001b[0;34m)\u001b[0m\u001b[0;34m:\u001b[0m\u001b[0;34m\u001b[0m\u001b[0;34m\u001b[0m\u001b[0m\n\u001b[1;32m    981\u001b[0m                     \u001b[0;31m# If we have a view on v, we need to make a copy because\u001b[0m\u001b[0;34m\u001b[0m\u001b[0;34m\u001b[0m\u001b[0m\n",
      "\u001b[0;32m<ipython-input-106-5719533b647f>\u001b[0m in \u001b[0;36m<lambda>\u001b[0;34m(row)\u001b[0m\n\u001b[1;32m     15\u001b[0m \u001b[0;32mfor\u001b[0m \u001b[0mcol\u001b[0m \u001b[0;32min\u001b[0m \u001b[0mcolumns_to_replace\u001b[0m\u001b[0;34m:\u001b[0m\u001b[0;34m\u001b[0m\u001b[0;34m\u001b[0m\u001b[0m\n\u001b[1;32m     16\u001b[0m     \u001b[0mcol_vectorized_query\u001b[0m \u001b[0;34m=\u001b[0m \u001b[0mcol\u001b[0m \u001b[0;34m+\u001b[0m \u001b[0;34m\"_vectorized_query\"\u001b[0m\u001b[0;34m\u001b[0m\u001b[0;34m\u001b[0m\u001b[0m\n\u001b[0;32m---> 17\u001b[0;31m     \u001b[0mdtwtd\u001b[0m\u001b[0;34m[\u001b[0m\u001b[0mcol_vectorized_query\u001b[0m\u001b[0;34m]\u001b[0m \u001b[0;34m=\u001b[0m \u001b[0mdtwtd\u001b[0m\u001b[0;34m.\u001b[0m\u001b[0mapply\u001b[0m\u001b[0;34m(\u001b[0m\u001b[0;32mlambda\u001b[0m \u001b[0mrow\u001b[0m\u001b[0;34m:\u001b[0m \u001b[0mcosine_similarity\u001b[0m\u001b[0;34m(\u001b[0m\u001b[0mrow\u001b[0m\u001b[0;34m[\u001b[0m\u001b[0mcol\u001b[0m\u001b[0;34m]\u001b[0m\u001b[0;34m,\u001b[0m \u001b[0mrow\u001b[0m\u001b[0;34m[\u001b[0m\u001b[0;34m'vectorized_query'\u001b[0m\u001b[0;34m]\u001b[0m\u001b[0;34m)\u001b[0m\u001b[0;34m,\u001b[0m \u001b[0maxis\u001b[0m\u001b[0;34m=\u001b[0m\u001b[0;36m1\u001b[0m\u001b[0;34m)\u001b[0m\u001b[0;34m\u001b[0m\u001b[0;34m\u001b[0m\u001b[0m\n\u001b[0m\u001b[1;32m     18\u001b[0m \u001b[0;34m\u001b[0m\u001b[0m\n\u001b[1;32m     19\u001b[0m \u001b[0mdtwtd\u001b[0m \u001b[0;34m=\u001b[0m \u001b[0mdtwtd\u001b[0m\u001b[0;34m.\u001b[0m\u001b[0mdrop\u001b[0m\u001b[0;34m(\u001b[0m\u001b[0mcolumns\u001b[0m\u001b[0;34m=\u001b[0m\u001b[0mcolumns_to_replace\u001b[0m\u001b[0;34m)\u001b[0m\u001b[0;34m\u001b[0m\u001b[0;34m\u001b[0m\u001b[0m\n",
      "\u001b[0;32m~/.local/lib/python3.10/site-packages/pandas/core/series.py\u001b[0m in \u001b[0;36m__getitem__\u001b[0;34m(self, key)\u001b[0m\n\u001b[1;32m   1038\u001b[0m \u001b[0;34m\u001b[0m\u001b[0m\n\u001b[1;32m   1039\u001b[0m         \u001b[0;32melif\u001b[0m \u001b[0mkey_is_scalar\u001b[0m\u001b[0;34m:\u001b[0m\u001b[0;34m\u001b[0m\u001b[0;34m\u001b[0m\u001b[0m\n\u001b[0;32m-> 1040\u001b[0;31m             \u001b[0;32mreturn\u001b[0m \u001b[0mself\u001b[0m\u001b[0;34m.\u001b[0m\u001b[0m_get_value\u001b[0m\u001b[0;34m(\u001b[0m\u001b[0mkey\u001b[0m\u001b[0;34m)\u001b[0m\u001b[0;34m\u001b[0m\u001b[0;34m\u001b[0m\u001b[0m\n\u001b[0m\u001b[1;32m   1041\u001b[0m \u001b[0;34m\u001b[0m\u001b[0m\n\u001b[1;32m   1042\u001b[0m         \u001b[0;31m# Convert generator to list before going through hashable part\u001b[0m\u001b[0;34m\u001b[0m\u001b[0;34m\u001b[0m\u001b[0m\n",
      "\u001b[0;32m~/.local/lib/python3.10/site-packages/pandas/core/series.py\u001b[0m in \u001b[0;36m_get_value\u001b[0;34m(self, label, takeable)\u001b[0m\n\u001b[1;32m   1154\u001b[0m \u001b[0;34m\u001b[0m\u001b[0m\n\u001b[1;32m   1155\u001b[0m         \u001b[0;31m# Similar to Index.get_value, but we do not fall back to positional\u001b[0m\u001b[0;34m\u001b[0m\u001b[0;34m\u001b[0m\u001b[0m\n\u001b[0;32m-> 1156\u001b[0;31m         \u001b[0mloc\u001b[0m \u001b[0;34m=\u001b[0m \u001b[0mself\u001b[0m\u001b[0;34m.\u001b[0m\u001b[0mindex\u001b[0m\u001b[0;34m.\u001b[0m\u001b[0mget_loc\u001b[0m\u001b[0;34m(\u001b[0m\u001b[0mlabel\u001b[0m\u001b[0;34m)\u001b[0m\u001b[0;34m\u001b[0m\u001b[0;34m\u001b[0m\u001b[0m\n\u001b[0m\u001b[1;32m   1157\u001b[0m \u001b[0;34m\u001b[0m\u001b[0m\n\u001b[1;32m   1158\u001b[0m         \u001b[0;32mif\u001b[0m \u001b[0mis_integer\u001b[0m\u001b[0;34m(\u001b[0m\u001b[0mloc\u001b[0m\u001b[0;34m)\u001b[0m\u001b[0;34m:\u001b[0m\u001b[0;34m\u001b[0m\u001b[0;34m\u001b[0m\u001b[0m\n",
      "\u001b[0;32m~/.local/lib/python3.10/site-packages/pandas/core/indexes/base.py\u001b[0m in \u001b[0;36mget_loc\u001b[0;34m(self, key)\u001b[0m\n\u001b[1;32m   3795\u001b[0m             ):\n\u001b[1;32m   3796\u001b[0m                 \u001b[0;32mraise\u001b[0m \u001b[0mInvalidIndexError\u001b[0m\u001b[0;34m(\u001b[0m\u001b[0mkey\u001b[0m\u001b[0;34m)\u001b[0m\u001b[0;34m\u001b[0m\u001b[0;34m\u001b[0m\u001b[0m\n\u001b[0;32m-> 3797\u001b[0;31m             \u001b[0;32mraise\u001b[0m \u001b[0mKeyError\u001b[0m\u001b[0;34m(\u001b[0m\u001b[0mkey\u001b[0m\u001b[0;34m)\u001b[0m \u001b[0;32mfrom\u001b[0m \u001b[0merr\u001b[0m\u001b[0;34m\u001b[0m\u001b[0;34m\u001b[0m\u001b[0m\n\u001b[0m\u001b[1;32m   3798\u001b[0m         \u001b[0;32mexcept\u001b[0m \u001b[0mTypeError\u001b[0m\u001b[0;34m:\u001b[0m\u001b[0;34m\u001b[0m\u001b[0;34m\u001b[0m\u001b[0m\n\u001b[1;32m   3799\u001b[0m             \u001b[0;31m# If we have a listlike key, _check_indexing_error will raise\u001b[0m\u001b[0;34m\u001b[0m\u001b[0;34m\u001b[0m\u001b[0m\n",
      "\u001b[0;31mKeyError\u001b[0m: 'chanell_vec'"
     ]
    }
   ],
   "source": [
    "columns_to_replace = ['chanell_vec_vectorized_query', 'category_vec_vectorized_query', 'video_title_vec',\n",
    "                       'vectorized_persons', 'vectorized_organizations', 'vectorized_locations']\n",
    "\n",
    "\n",
    "def cosine_similarity(vec1, vec2):\n",
    "    norm1 = np.linalg.norm(vec1)\n",
    "    norm2 = np.linalg.norm(vec2)\n",
    "\n",
    "    if norm1 == 0 or norm2 == 0:\n",
    "        return 0  \n",
    "\n",
    "    return 1 - np.dot(vec1, vec2) / (norm1 * norm2)\n",
    "\n",
    "for col in columns_to_replace:\n",
    "    col_vectorized_query = col + \"_vectorized_query\"\n",
    "    dtwtd[col_vectorized_query] = dtwtd.apply(lambda row: cosine_similarity(row[col], row['vectorized_query']), axis=1)\n",
    "\n",
    "dtwtd = dtwtd.drop(columns=columns_to_replace)"
   ]
  },
  {
   "cell_type": "code",
   "execution_count": 95,
   "id": "3bf7bad8-e48c-461d-9e8f-32ec8544b88e",
   "metadata": {
    "execution": {
     "iopub.execute_input": "2023-11-25T10:16:31.656363Z",
     "iopub.status.busy": "2023-11-25T10:16:31.655434Z",
     "iopub.status.idle": "2023-11-25T10:16:31.704647Z",
     "shell.execute_reply": "2023-11-25T10:16:31.703798Z",
     "shell.execute_reply.started": "2023-11-25T10:16:31.656309Z"
    },
    "tags": []
   },
   "outputs": [],
   "source": [
    "columns_to_predict = dtwtd[['duration', 'emotion', 'vtop', 'comment', 'v_month_views', 'v_cr_click_like_30_days', \n",
    "                   'chanell_vec_vectorized_query', 'category_vec_vectorized_query', \n",
    "                   'video_title_vec_vectorized_query','vectorized_persons_vectorized_query',\n",
    "                   'vectorized_organizations_vectorized_query','vectorized_locations_vectorized_query']]  # Замените на ваши фактические имена колонок\n",
    "\n",
    "\n",
    "predictions = model.predict(columns_to_predict)"
   ]
  },
  {
   "cell_type": "code",
   "execution_count": 96,
   "id": "723b3127-7b75-4ca7-8210-fbb73501a82a",
   "metadata": {
    "execution": {
     "iopub.execute_input": "2023-11-25T10:16:32.410386Z",
     "iopub.status.busy": "2023-11-25T10:16:32.409606Z",
     "iopub.status.idle": "2023-11-25T10:16:32.431497Z",
     "shell.execute_reply": "2023-11-25T10:16:32.430632Z",
     "shell.execute_reply.started": "2023-11-25T10:16:32.410344Z"
    },
    "tags": []
   },
   "outputs": [
    {
     "data": {
      "text/plain": [
       "array([-0.00015568, -0.00015568, -0.00015568, ...,  0.00168864,\n",
       "       -0.00015568, -0.00015568])"
      ]
     },
     "execution_count": 96,
     "metadata": {},
     "output_type": "execute_result"
    }
   ],
   "source": [
    "\n",
    "predictions"
   ]
  },
  {
   "cell_type": "code",
   "execution_count": null,
   "id": "5fe2a0f9-21b4-49a0-aea3-1fee52650c09",
   "metadata": {
    "tags": []
   },
   "outputs": [],
   "source": []
  },
  {
   "cell_type": "code",
   "execution_count": 97,
   "id": "75dfac09-13ec-43b1-95de-2672ff5c06ea",
   "metadata": {
    "execution": {
     "iopub.execute_input": "2023-11-25T10:16:33.819411Z",
     "iopub.status.busy": "2023-11-25T10:16:33.818639Z",
     "iopub.status.idle": "2023-11-25T10:16:33.931280Z",
     "shell.execute_reply": "2023-11-25T10:16:33.930304Z",
     "shell.execute_reply.started": "2023-11-25T10:16:33.819373Z"
    },
    "tags": []
   },
   "outputs": [
    {
     "data": {
      "text/html": [
       "<div>\n",
       "<style scoped>\n",
       "    .dataframe tbody tr th:only-of-type {\n",
       "        vertical-align: middle;\n",
       "    }\n",
       "\n",
       "    .dataframe tbody tr th {\n",
       "        vertical-align: top;\n",
       "    }\n",
       "\n",
       "    .dataframe thead th {\n",
       "        text-align: right;\n",
       "    }\n",
       "</style>\n",
       "<table border=\"1\" class=\"dataframe\">\n",
       "  <thead>\n",
       "    <tr style=\"text-align: right;\">\n",
       "      <th></th>\n",
       "      <th>query</th>\n",
       "      <th>video_id</th>\n",
       "      <th>duration</th>\n",
       "      <th>emotion</th>\n",
       "      <th>vtop</th>\n",
       "      <th>comment</th>\n",
       "      <th>channel</th>\n",
       "      <th>tv_show</th>\n",
       "      <th>v_category</th>\n",
       "      <th>v_month_views</th>\n",
       "      <th>v_cr_click_like_30_days</th>\n",
       "      <th>video_title</th>\n",
       "      <th>vectorized_query</th>\n",
       "      <th>time_difference_hours</th>\n",
       "      <th>persons</th>\n",
       "      <th>organizations</th>\n",
       "      <th>locations</th>\n",
       "      <th>chanell_vec_vectorized_query</th>\n",
       "      <th>tv_show_vec_vectorized_query</th>\n",
       "      <th>category_vec_vectorized_query</th>\n",
       "      <th>video_title_vec_vectorized_query</th>\n",
       "      <th>vectorized_persons_vectorized_query</th>\n",
       "      <th>vectorized_organizations_vectorized_query</th>\n",
       "      <th>vectorized_locations_vectorized_query</th>\n",
       "      <th>predictions</th>\n",
       "    </tr>\n",
       "  </thead>\n",
       "  <tbody>\n",
       "    <tr>\n",
       "      <th>5014949</th>\n",
       "      <td>битва экстрасен</td>\n",
       "      <td>video_12290749</td>\n",
       "      <td>12612480</td>\n",
       "      <td>0</td>\n",
       "      <td>0</td>\n",
       "      <td>0</td>\n",
       "      <td>PREMIER онлайн-кинотеатр</td>\n",
       "      <td></td>\n",
       "      <td>Сериалы</td>\n",
       "      <td>93902.0</td>\n",
       "      <td>0.000831</td>\n",
       "      <td>Новые пацанки | Первая серия нового сезона | P...</td>\n",
       "      <td>[-0.015514161, 0.2887959, 0.020781705, 0.07575...</td>\n",
       "      <td>966.970278</td>\n",
       "      <td>авлвд</td>\n",
       "      <td>premier</td>\n",
       "      <td>авлвд</td>\n",
       "      <td>1.147738</td>\n",
       "      <td>0.0</td>\n",
       "      <td>1.072039</td>\n",
       "      <td>0.863557</td>\n",
       "      <td>1.146986</td>\n",
       "      <td>1.066942</td>\n",
       "      <td>0.865334</td>\n",
       "      <td>0.010829</td>\n",
       "    </tr>\n",
       "    <tr>\n",
       "      <th>5015161</th>\n",
       "      <td>битва экстрасен</td>\n",
       "      <td>video_12290749</td>\n",
       "      <td>12612480</td>\n",
       "      <td>0</td>\n",
       "      <td>0</td>\n",
       "      <td>0</td>\n",
       "      <td>PREMIER онлайн-кинотеатр</td>\n",
       "      <td></td>\n",
       "      <td>Сериалы</td>\n",
       "      <td>93902.0</td>\n",
       "      <td>0.000831</td>\n",
       "      <td>Новые пацанки | Первая серия нового сезона | P...</td>\n",
       "      <td>[-0.015514161, 0.2887959, 0.020781705, 0.07575...</td>\n",
       "      <td>966.970278</td>\n",
       "      <td>авлвд</td>\n",
       "      <td>premier</td>\n",
       "      <td>авлвд</td>\n",
       "      <td>1.147738</td>\n",
       "      <td>0.0</td>\n",
       "      <td>1.072039</td>\n",
       "      <td>0.863557</td>\n",
       "      <td>1.146986</td>\n",
       "      <td>1.066942</td>\n",
       "      <td>0.865334</td>\n",
       "      <td>0.010829</td>\n",
       "    </tr>\n",
       "    <tr>\n",
       "      <th>5018440</th>\n",
       "      <td>битва экстрасен</td>\n",
       "      <td>video_12290749</td>\n",
       "      <td>12612480</td>\n",
       "      <td>0</td>\n",
       "      <td>0</td>\n",
       "      <td>0</td>\n",
       "      <td>PREMIER онлайн-кинотеатр</td>\n",
       "      <td></td>\n",
       "      <td>Сериалы</td>\n",
       "      <td>93902.0</td>\n",
       "      <td>0.000831</td>\n",
       "      <td>Новые пацанки | Первая серия нового сезона | P...</td>\n",
       "      <td>[-0.015514161, 0.2887959, 0.020781705, 0.07575...</td>\n",
       "      <td>966.970278</td>\n",
       "      <td>авлвд</td>\n",
       "      <td>premier</td>\n",
       "      <td>авлвд</td>\n",
       "      <td>1.147738</td>\n",
       "      <td>0.0</td>\n",
       "      <td>1.072039</td>\n",
       "      <td>0.863557</td>\n",
       "      <td>1.146986</td>\n",
       "      <td>1.066942</td>\n",
       "      <td>0.865334</td>\n",
       "      <td>0.010829</td>\n",
       "    </tr>\n",
       "    <tr>\n",
       "      <th>5015164</th>\n",
       "      <td>битва экстрасен</td>\n",
       "      <td>video_12290749</td>\n",
       "      <td>12612480</td>\n",
       "      <td>0</td>\n",
       "      <td>0</td>\n",
       "      <td>0</td>\n",
       "      <td>PREMIER онлайн-кинотеатр</td>\n",
       "      <td></td>\n",
       "      <td>Сериалы</td>\n",
       "      <td>93902.0</td>\n",
       "      <td>0.000831</td>\n",
       "      <td>Новые пацанки | Первая серия нового сезона | P...</td>\n",
       "      <td>[-0.015514161, 0.2887959, 0.020781705, 0.07575...</td>\n",
       "      <td>966.970278</td>\n",
       "      <td>авлвд</td>\n",
       "      <td>premier</td>\n",
       "      <td>авлвд</td>\n",
       "      <td>1.147738</td>\n",
       "      <td>0.0</td>\n",
       "      <td>1.072039</td>\n",
       "      <td>0.863557</td>\n",
       "      <td>1.146986</td>\n",
       "      <td>1.066942</td>\n",
       "      <td>0.865334</td>\n",
       "      <td>0.010829</td>\n",
       "    </tr>\n",
       "    <tr>\n",
       "      <th>5015166</th>\n",
       "      <td>битва экстрасен</td>\n",
       "      <td>video_12290749</td>\n",
       "      <td>12612480</td>\n",
       "      <td>0</td>\n",
       "      <td>0</td>\n",
       "      <td>0</td>\n",
       "      <td>PREMIER онлайн-кинотеатр</td>\n",
       "      <td></td>\n",
       "      <td>Сериалы</td>\n",
       "      <td>93902.0</td>\n",
       "      <td>0.000831</td>\n",
       "      <td>Новые пацанки | Первая серия нового сезона | P...</td>\n",
       "      <td>[-0.015514161, 0.2887959, 0.020781705, 0.07575...</td>\n",
       "      <td>966.970278</td>\n",
       "      <td>авлвд</td>\n",
       "      <td>premier</td>\n",
       "      <td>авлвд</td>\n",
       "      <td>1.147738</td>\n",
       "      <td>0.0</td>\n",
       "      <td>1.072039</td>\n",
       "      <td>0.863557</td>\n",
       "      <td>1.146986</td>\n",
       "      <td>1.066942</td>\n",
       "      <td>0.865334</td>\n",
       "      <td>0.010829</td>\n",
       "    </tr>\n",
       "  </tbody>\n",
       "</table>\n",
       "</div>"
      ],
      "text/plain": [
       "                   query  ... predictions\n",
       "5014949  битва экстрасен  ...    0.010829\n",
       "5015161  битва экстрасен  ...    0.010829\n",
       "5018440  битва экстрасен  ...    0.010829\n",
       "5015164  битва экстрасен  ...    0.010829\n",
       "5015166  битва экстрасен  ...    0.010829\n",
       "\n",
       "[5 rows x 25 columns]"
      ]
     },
     "execution_count": 97,
     "metadata": {},
     "output_type": "execute_result"
    }
   ],
   "source": [
    "dtwtd['predictions'] = predictions\n",
    "dtwtd_sorted = dtwtd.sort_values(by='predictions', ascending=False)\n",
    "\n",
    "# Выводим самые релевантные запросы (например, первые 10)\n",
    "top_queries = dtwtd_sorted.head(5)\n",
    "top_queries"
   ]
  },
  {
   "cell_type": "code",
   "execution_count": null,
   "id": "91fe7f33-5fba-46ed-a716-817a8e7bd9d4",
   "metadata": {},
   "outputs": [],
   "source": []
  }
 ],
 "metadata": {
  "kernelspec": {
   "display_name": "DataSphere Kernel",
   "language": "python",
   "name": "python3"
  },
  "language_info": {
   "codemirror_mode": {
    "name": "ipython",
    "version": 3
   },
   "file_extension": ".py",
   "mimetype": "text/x-python",
   "name": "python",
   "nbconvert_exporter": "python",
   "pygments_lexer": "ipython3",
   "version": "3.7.7"
  }
 },
 "nbformat": 4,
 "nbformat_minor": 5
}
